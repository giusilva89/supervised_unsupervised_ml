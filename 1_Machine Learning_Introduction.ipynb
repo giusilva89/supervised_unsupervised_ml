{
 "cells": [
  {
   "cell_type": "markdown",
   "metadata": {},
   "source": [
    "# Introduction"
   ]
  },
  {
   "cell_type": "markdown",
   "metadata": {},
   "source": [
    "Data is not random, it has a structure, e.g., customer behaviour.\n",
    "\n",
    "We need a “big theory” to extract that structure from data for\n",
    " \n",
    "- Understanding the process\n",
    "- Making predictions for the future \n"
   ]
  },
  {
   "cell_type": "markdown",
   "metadata": {},
   "source": [
    "### Machine learning \n",
    "\n",
    "- is the art of programming computers to optimize a performance criterion using example data or past experience.\n",
    "- There is no need to “learn” or to calculate payroll\n",
    "\n",
    "### Learning is used when:\n",
    "\n",
    "- Human expertise does not exist (navigating on Mars),\n",
    "- Humans are unable to explain their expertise (speech recognition)\n",
    "- Solution changes in time (routing on a computer network)\n",
    "- Solution needs to be adapted to particular cases (user biometrics)\n"
   ]
  },
  {
   "cell_type": "markdown",
   "metadata": {},
   "source": [
    "### `Data is not expensive and abundant (data warehouses, data marts); knowledge is expensive and scarce. ` \n"
   ]
  },
  {
   "cell_type": "markdown",
   "metadata": {},
   "source": [
    "# What is ML? "
   ]
  },
  {
   "cell_type": "markdown",
   "metadata": {},
   "source": [
    "**`Machine learning (ML)`** is a collection of algorithms and techniques used to design systems that learn from data. **`ML`** algorithms have a strong mathematical and statistical basis, but they do not take into account domain knowledge. **`ML`** consists of the following disciplines:\n",
    "\n",
    "- Scientific computing\n",
    "- Mathematics\n",
    "- Statistics\n"
   ]
  },
  {
   "cell_type": "markdown",
   "metadata": {},
   "source": [
    "# Type of **`ML`**"
   ]
  },
  {
   "cell_type": "markdown",
   "metadata": {},
   "source": [
    "## Machine learning algorithms fall into two broad categories:\n",
    "\n",
    "### - Supervised learning algorithms are trained with labeled data. In other words, data composed of examples of the desired answers. \n",
    "\n",
    "**Example:** For instance, a model that identifies fraudulent credit card use would be trained from a dataset with labeled data points of known fraudulent and valid charges. Most machine learning is supervised.\n",
    "\n",
    "### - Unsupervised learning algorithms are used on data with no labels, and the goal is to find relationships in the data.\n",
    "\n",
    "**Example:** For instance, you might want to find groupings of customer demographics with similar buying habits.\n",
    "\n"
   ]
  },
  {
   "cell_type": "markdown",
   "metadata": {},
   "source": []
  },
  {
   "cell_type": "markdown",
   "metadata": {},
   "source": [
    "# Supervised Learning"
   ]
  },
  {
   "cell_type": "markdown",
   "metadata": {},
   "source": [
    "## Regression\n",
    "\n",
    "Examples: House Price Prediction"
   ]
  },
  {
   "cell_type": "markdown",
   "metadata": {},
   "source": [
    "In **`supervised learning`**, a labeled dataset is used. A labeled dataset means that a group of data has been tagged with a label. This label provides informative meaning to the data. Using the label, an unlabeled data can be predicted to obtain a new label. \n",
    "\n",
    "For example, a dataset may contain a series of records containing the following fields, which record the size of the various houses and the prices for which they were sold:\n",
    "House Size, Price Sold\n",
    "\n",
    "In this very simple example, Price Sold is the label. When plotted on a chart, this dataset can help you to predict the price of a house that is yet to be sold. Predicting a price for the house is a regression problem.\n"
   ]
  },
  {
   "cell_type": "markdown",
   "metadata": {},
   "source": []
  },
  {
   "cell_type": "markdown",
   "metadata": {},
   "source": [
    "## Classification"
   ]
  },
  {
   "cell_type": "markdown",
   "metadata": {},
   "source": [
    "### Supervised induction used to analyze the historical data stored in a database and to automatically generate a model that can predict future behaviour\n",
    "\n",
    "Suppose that you have a dataset containing the following: Tumor Size, Age, Malignant\n",
    "\n",
    "The Malignant field is a label indicating if a tumor is cancerous. When you plot the dataset on a chart, you will be able to classify it into two distinct groups, with one group containing the cancerous tumors and the other containing the benign tumors.\n",
    "\n",
    "Using this grouping, you can now **`predict`** if a new tumor is cancerous or not. This type of problem is known as a **`classification problem`**.\n",
    "\n",
    "\n",
    "Data is divided into two classes: \n",
    "- **`Cancerous`**\n",
    "- **`Non-cancerous`**\n"
   ]
  },
  {
   "cell_type": "markdown",
   "metadata": {},
   "source": [
    "## Classification: Applications"
   ]
  },
  {
   "cell_type": "markdown",
   "metadata": {},
   "source": [
    "Can be called as the Pattern recognition\n",
    "\n",
    "- Face recognition: Pose, lighting, occlusion (glasses, beard), make-up, hair style.\n",
    "- Character recognition: Different handwriting styles.\n",
    "- Speech recognition: Temporal dependency. \n",
    "- Medical diagnosis: From symptoms to illnesses.\n",
    "- Biometrics: Recognition/ authentication using physical and/or behavioral characteristics: Face, iris, signature, etc.\n",
    "- Outlier/ novelty detection:\n"
   ]
  },
  {
   "cell_type": "markdown",
   "metadata": {},
   "source": [
    "## Classification: Use Cases"
   ]
  },
  {
   "cell_type": "markdown",
   "metadata": {},
   "source": [
    "- **Manufacturing:** Predictive maintenance and condition monitoring\n",
    "- **Retail:** Upselling and cross-channel marketing\n",
    "- **Healthcare and life sciences:** Disease identification and risk satisfaction\n",
    "- **Travel and hospitality:** Dynamic pricing\n",
    "- **Financial services:** Risk analytics and regulation\n",
    "- **Energy:** Energy demand and supply optimization \n"
   ]
  },
  {
   "cell_type": "markdown",
   "metadata": {},
   "source": []
  },
  {
   "cell_type": "markdown",
   "metadata": {},
   "source": [
    "# Machine learning model"
   ]
  },
  {
   "cell_type": "markdown",
   "metadata": {},
   "source": [
    "### A statistical representation of a real-world process based on data.\n",
    "- **`Training data:`** existing data to learn from\n",
    "- **`Training a model:`** when a model is being built from training data, It takes only nanoseconds to weeks\n",
    "\n",
    "It's necessary split the data in **`train`**  and **`test`** \n",
    "\n",
    "### In `Supervised Learning`\n",
    "\n",
    "- The training data is **`labeled`** \n",
    "\n",
    "\n",
    "\n",
    "\n",
    "\n"
   ]
  },
  {
   "cell_type": "markdown",
   "metadata": {},
   "source": []
  },
  {
   "cell_type": "markdown",
   "metadata": {},
   "source": [
    "# `ML` Model Steps:\n",
    "\n",
    "- Extract features: Choosing features and manipulating the dataset \n",
    "- Split dataset: Train and test dataset \n",
    "- Train model: Input train dataset into a machine learning model \n",
    "- Evaluate: If desired performance isn’t reached: tune the model and repeat Step 3\n"
   ]
  },
  {
   "cell_type": "markdown",
   "metadata": {},
   "source": [
    "1 ) Extract the features for each product in the shop, including brand, number of times viewed, cost, colour, and clothing type.\n",
    "\n",
    "2) Split the dataset onto 2/3 and 1/3 for the train and test dataset respectively.\n",
    "\n",
    "3) Train the model using the train dataset and a logistic regression model.\n",
    "\n",
    "4) Evaluate the percentage of products in the test dataset that were accurately predicted as bought.\n"
   ]
  },
  {
   "cell_type": "markdown",
   "metadata": {},
   "source": []
  },
  {
   "cell_type": "markdown",
   "metadata": {},
   "source": [
    "# Regression vs Classification"
   ]
  },
  {
   "cell_type": "markdown",
   "metadata": {},
   "source": [
    "- **`Regression:`** is a continuous variable\n",
    " e.g., price prediction\n",
    "\n",
    "\n",
    "- **`Classification:`** the label is a discrete variable\n",
    " e.g., the task of predicting the types of residence\n"
   ]
  },
  {
   "cell_type": "markdown",
   "metadata": {},
   "source": []
  },
  {
   "cell_type": "markdown",
   "metadata": {},
   "source": [
    "# Unsupervised Learning"
   ]
  },
  {
   "cell_type": "markdown",
   "metadata": {},
   "source": [
    "In reality, data doesn't always come with labels \n",
    "\n",
    "Requires manual labor to label \n",
    "\n",
    "### Labels are unknown \n",
    "\n",
    "- **No labels:** model is unsupervised and finds its own patterns\n",
    "\n",
    "### Useful for:\n",
    "\n",
    "- Anomaly Detection\n",
    "- Clustering (dividing data into a group)\n"
   ]
  },
  {
   "cell_type": "markdown",
   "metadata": {},
   "source": [
    "In unsupervised learning, the dataset used is not labeled. An easy way to visualize unlabeled data is to consider the dataset containing the waist size and leg length of a group of people:\n",
    "\n",
    "- Waist Size, Leg Length (**`Clustering`**) \n",
    "\n",
    "- Using **`unsupervised learning`**, your job is to try to predict a pattern in the dataset. You may plot the dataset in a chart.\n",
    "\n",
    "- You can then use some **`clustering algorithms`** to find the patterns in the dataset. The end result might be the discovery of three distinct groups of clusters in the data.\n"
   ]
  },
  {
   "cell_type": "markdown",
   "metadata": {},
   "source": []
  },
  {
   "cell_type": "markdown",
   "metadata": {},
   "source": [
    "# Tuning of `ML` Models"
   ]
  },
  {
   "cell_type": "markdown",
   "metadata": {},
   "source": [
    "- Every machine learning problem has **`parameters`** that must be tuned properly to ensure optimal learning\n",
    "- For example, there are two **`parameters`** that must be properly tuned in the case of a simple linear regression.\n",
    "- That is, when fitting a line to a scatter of data: the slope and intercept of the **`linear model`**.\n",
    "- These two **`parameters`** are tuned by forming what is called a cost function or loss function.\n"
   ]
  },
  {
   "cell_type": "markdown",
   "metadata": {},
   "source": []
  },
  {
   "cell_type": "markdown",
   "metadata": {},
   "source": [
    "# Reinforcement Learning"
   ]
  },
  {
   "cell_type": "markdown",
   "metadata": {},
   "source": [
    "**`Reinforcement learning (RL)`** is an area of machine learning concerned with how software agents ought to take actions in an environment in order to maximize the notion of cumulative reward. \n",
    "\n",
    "Reinforcement learning is one of **`three basic machine learning paradigms`**, alongside **`supervised learning`** and **`unsupervised learning`**.\n",
    "\n",
    "- Learning a policy: A sequence of outputs\n",
    "- No supervised output but delayed reward\n",
    "- Credit assignment problem\n",
    "- Game playing\n",
    "- Robot in a maze\n",
    "- Multiple agents, partial observability, ...\n",
    "\n",
    "\n",
    "# 3 types of `ML`: \n",
    "\n",
    "### **`Supervised Learning, Unsupervised Learning and Reinforcement Learning`**\n"
   ]
  },
  {
   "cell_type": "markdown",
   "metadata": {},
   "source": []
  },
  {
   "cell_type": "markdown",
   "metadata": {},
   "source": [
    "# Deep Learning"
   ]
  },
  {
   "cell_type": "markdown",
   "metadata": {},
   "source": [
    "**`Deep learning`** is a **subset** of machine learning in artificial intelligence that has networks capable of `learning unsupervised` from data that is unstructured or unlabeled. Also known as **`deep neural learning`** or **`deep neural network`**.\n"
   ]
  },
  {
   "cell_type": "markdown",
   "metadata": {},
   "source": [
    "- Neural Networks -> Basic unit: neurons (nodes)\n",
    "- Special area of Machine Learning\n",
    "- Requires more data\n",
    "- Best when inputs that are images or text\n"
   ]
  },
  {
   "cell_type": "markdown",
   "metadata": {},
   "source": []
  },
  {
   "cell_type": "markdown",
   "metadata": {},
   "source": [
    "#  Cross Validation"
   ]
  },
  {
   "cell_type": "markdown",
   "metadata": {},
   "source": [
    "To estimate generalization error, we need data unseen during training. We split the data as\n",
    "\n",
    "- Training set (50%)\n",
    "- Validation set (25%)\n",
    "- Test (publication) set (25%)\n"
   ]
  },
  {
   "cell_type": "markdown",
   "metadata": {},
   "source": [
    "**`Cross-validation`** is a **resampling** procedure used to evaluate machine learning models **on a limited data** sample.\n",
    "\n",
    "**`Cross-validation`** is used to assess the predictive performance of the models and and to judge how they perform outside the sample to a new data set also known as test data.\n",
    "\n",
    "That is, to use a **limited sample** in order to estimate how the model is expected to perform in general when used to make predictions on data not used during the training of the model.\n",
    "\n"
   ]
  },
  {
   "cell_type": "code",
   "execution_count": null,
   "metadata": {},
   "outputs": [],
   "source": []
  }
 ],
 "metadata": {
  "kernelspec": {
   "display_name": "Python 3",
   "language": "python",
   "name": "python3"
  },
  "language_info": {
   "codemirror_mode": {
    "name": "ipython",
    "version": 3
   },
   "file_extension": ".py",
   "mimetype": "text/x-python",
   "name": "python",
   "nbconvert_exporter": "python",
   "pygments_lexer": "ipython3",
   "version": "3.7.6"
  }
 },
 "nbformat": 4,
 "nbformat_minor": 4
}
