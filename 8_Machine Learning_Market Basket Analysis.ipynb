{
 "cells": [
  {
   "cell_type": "markdown",
   "metadata": {},
   "source": [
    "# Tutorial 6\n",
    "\n",
    "### Market Basket Analysis"
   ]
  },
  {
   "cell_type": "code",
   "execution_count": 12,
   "metadata": {},
   "outputs": [],
   "source": [
    "dataset = [['Milk', 'Eggs', 'Bread'],\n",
    "['Milk', 'Eggs'],\n",
    "['Milk', 'Bread'],\n",
    "['Eggs', 'Apple']]"
   ]
  },
  {
   "cell_type": "code",
   "execution_count": 13,
   "metadata": {},
   "outputs": [
    {
     "name": "stdout",
     "output_type": "stream",
     "text": [
      "[['Milk', 'Eggs', 'Bread'], ['Milk', 'Eggs'], ['Milk', 'Bread'], ['Eggs', 'Apple']]\n"
     ]
    }
   ],
   "source": [
    "print(dataset)"
   ]
  },
  {
   "cell_type": "code",
   "execution_count": 14,
   "metadata": {},
   "outputs": [],
   "source": [
    "import pandas as pd\n",
    "from mlxtend.preprocessing import TransactionEncoder\n",
    "\n",
    "te = TransactionEncoder()\n",
    "te_array = te.fit(dataset).transform(dataset)\n",
    "df = pd.DataFrame(te_array, columns=te.columns_)"
   ]
  },
  {
   "cell_type": "code",
   "execution_count": 15,
   "metadata": {},
   "outputs": [
    {
     "name": "stdout",
     "output_type": "stream",
     "text": [
      "   Apple  Bread   Eggs   Milk\n",
      "0  False   True   True   True\n",
      "1  False  False   True   True\n",
      "2  False   True  False   True\n",
      "3   True  False   True  False\n"
     ]
    }
   ],
   "source": [
    "print(df)"
   ]
  },
  {
   "cell_type": "code",
   "execution_count": 8,
   "metadata": {},
   "outputs": [],
   "source": [
    "from mlxtend.preprocessing import TransactionEncoder\n",
    "\n",
    "te = TransactionEncoder()\n",
    "te_array = te.fit(groceries).transform(groceries)\n",
    "df = pd.DataFrame(te_array, columns=te.columns_)"
   ]
  },
  {
   "cell_type": "code",
   "execution_count": 16,
   "metadata": {},
   "outputs": [],
   "source": [
    "\n",
    "from mlxtend.frequent_patterns import apriori\n",
    "\n",
    "frequent_itemsets_ap = apriori(df, min_support=0.01, use_colnames=True)"
   ]
  },
  {
   "cell_type": "code",
   "execution_count": 10,
   "metadata": {},
   "outputs": [],
   "source": [
    "from mlxtend.frequent_patterns import apriori\n",
    "\n",
    "frequent_itemsets_ap = apriori(df, min_support=0.01, use_colnames=True)"
   ]
  },
  {
   "cell_type": "code",
   "execution_count": 17,
   "metadata": {},
   "outputs": [
    {
     "name": "stdout",
     "output_type": "stream",
     "text": [
      "   support             itemsets\n",
      "0     0.25              (Apple)\n",
      "1     0.50              (Bread)\n",
      "2     0.75               (Eggs)\n",
      "3     0.75               (Milk)\n",
      "4     0.25        (Apple, Eggs)\n",
      "5     0.25        (Eggs, Bread)\n",
      "6     0.50        (Bread, Milk)\n",
      "7     0.50         (Eggs, Milk)\n",
      "8     0.25  (Eggs, Bread, Milk)\n"
     ]
    }
   ],
   "source": [
    "print(frequent_itemsets_ap)"
   ]
  },
  {
   "cell_type": "code",
   "execution_count": 18,
   "metadata": {},
   "outputs": [],
   "source": [
    "from mlxtend.frequent_patterns import fpgrowth\n",
    "frequent_itemsets_fp=fpgrowth(df, min_support=0.01, use_colnames=True)"
   ]
  },
  {
   "cell_type": "code",
   "execution_count": 19,
   "metadata": {},
   "outputs": [
    {
     "name": "stdout",
     "output_type": "stream",
     "text": [
      "   support             itemsets\n",
      "0     0.75               (Milk)\n",
      "1     0.75               (Eggs)\n",
      "2     0.50              (Bread)\n",
      "3     0.25              (Apple)\n",
      "4     0.50         (Eggs, Milk)\n",
      "5     0.50        (Bread, Milk)\n",
      "6     0.25        (Eggs, Bread)\n",
      "7     0.25  (Eggs, Bread, Milk)\n",
      "8     0.25        (Apple, Eggs)\n"
     ]
    }
   ],
   "source": [
    "print(frequent_itemsets_fp)"
   ]
  },
  {
   "cell_type": "code",
   "execution_count": 20,
   "metadata": {},
   "outputs": [],
   "source": [
    "from mlxtend.frequent_patterns import association_rules\n",
    "\n",
    "rules_ap = association_rules(frequent_itemsets_ap, metric=\"confidence\", min_threshold=0.8)\n",
    "rules_fp = association_rules(frequent_itemsets_fp, metric=\"confidence\", min_threshold=0.8)"
   ]
  },
  {
   "cell_type": "code",
   "execution_count": 21,
   "metadata": {},
   "outputs": [
    {
     "name": "stdout",
     "output_type": "stream",
     "text": [
      "     antecedents consequents  antecedent support  consequent support  support  \\\n",
      "0        (Apple)      (Eggs)                0.25                0.75     0.25   \n",
      "1        (Bread)      (Milk)                0.50                0.75     0.50   \n",
      "2  (Eggs, Bread)      (Milk)                0.25                0.75     0.25   \n",
      "\n",
      "   confidence      lift  leverage  conviction  \n",
      "0         1.0  1.333333    0.0625         inf  \n",
      "1         1.0  1.333333    0.1250         inf  \n",
      "2         1.0  1.333333    0.0625         inf  \n"
     ]
    }
   ],
   "source": [
    "print(rules_ap)"
   ]
  },
  {
   "cell_type": "code",
   "execution_count": 22,
   "metadata": {},
   "outputs": [
    {
     "name": "stdout",
     "output_type": "stream",
     "text": [
      "     antecedents consequents  antecedent support  consequent support  support  \\\n",
      "0        (Bread)      (Milk)                0.50                0.75     0.50   \n",
      "1  (Eggs, Bread)      (Milk)                0.25                0.75     0.25   \n",
      "2        (Apple)      (Eggs)                0.25                0.75     0.25   \n",
      "\n",
      "   confidence      lift  leverage  conviction  \n",
      "0         1.0  1.333333    0.1250         inf  \n",
      "1         1.0  1.333333    0.0625         inf  \n",
      "2         1.0  1.333333    0.0625         inf  \n"
     ]
    }
   ],
   "source": [
    "print(rules_fp)"
   ]
  },
  {
   "cell_type": "code",
   "execution_count": 23,
   "metadata": {},
   "outputs": [],
   "source": [
    "from mlxtend.frequent_patterns import association_rules\n",
    "\n",
    "rules_ap = association_rules(frequent_itemsets_ap, metric=\"confidence\", min_threshold=0.8)\n",
    "rules_fp = association_rules(frequent_itemsets_fp, metric=\"confidence\", min_threshold=0.8)"
   ]
  },
  {
   "cell_type": "code",
   "execution_count": 24,
   "metadata": {},
   "outputs": [
    {
     "name": "stdout",
     "output_type": "stream",
     "text": [
      "     antecedents consequents  antecedent support  consequent support  support  \\\n",
      "0        (Apple)      (Eggs)                0.25                0.75     0.25   \n",
      "1        (Bread)      (Milk)                0.50                0.75     0.50   \n",
      "2  (Eggs, Bread)      (Milk)                0.25                0.75     0.25   \n",
      "\n",
      "   confidence      lift  leverage  conviction  \n",
      "0         1.0  1.333333    0.0625         inf  \n",
      "1         1.0  1.333333    0.1250         inf  \n",
      "2         1.0  1.333333    0.0625         inf  \n"
     ]
    }
   ],
   "source": [
    "print(rules_ap)"
   ]
  },
  {
   "cell_type": "code",
   "execution_count": 25,
   "metadata": {},
   "outputs": [
    {
     "name": "stdout",
     "output_type": "stream",
     "text": [
      "     antecedents consequents  antecedent support  consequent support  support  \\\n",
      "0        (Bread)      (Milk)                0.50                0.75     0.50   \n",
      "1  (Eggs, Bread)      (Milk)                0.25                0.75     0.25   \n",
      "2        (Apple)      (Eggs)                0.25                0.75     0.25   \n",
      "\n",
      "   confidence      lift  leverage  conviction  \n",
      "0         1.0  1.333333    0.1250         inf  \n",
      "1         1.0  1.333333    0.0625         inf  \n",
      "2         1.0  1.333333    0.0625         inf  \n"
     ]
    }
   ],
   "source": [
    "print(rules_fp)"
   ]
  },
  {
   "cell_type": "markdown",
   "metadata": {},
   "source": [
    "# Prepare Data"
   ]
  },
  {
   "cell_type": "code",
   "execution_count": 27,
   "metadata": {},
   "outputs": [
    {
     "name": "stdout",
     "output_type": "stream",
     "text": [
      "Collecting jupyterthemes\n",
      "  Downloading jupyterthemes-0.20.0-py2.py3-none-any.whl (7.0 MB)\n",
      "\u001b[K     |████████████████████████████████| 7.0 MB 8.1 MB/s eta 0:00:01     |██████████████████████████▋     | 5.8 MB 3.3 MB/s eta 0:00:01\n",
      "\u001b[?25hRequirement already satisfied: matplotlib>=1.4.3 in /Users/Giuliano/opt/anaconda3/lib/python3.7/site-packages (from jupyterthemes) (3.1.3)\n",
      "Collecting lesscpy>=0.11.2\n",
      "  Downloading lesscpy-0.14.0-py2.py3-none-any.whl (46 kB)\n",
      "\u001b[K     |████████████████████████████████| 46 kB 5.1 MB/s eta 0:00:01\n",
      "\u001b[?25hRequirement already satisfied: ipython>=5.4.1 in /Users/Giuliano/opt/anaconda3/lib/python3.7/site-packages (from jupyterthemes) (7.12.0)\n",
      "Requirement already satisfied: jupyter-core in /Users/Giuliano/opt/anaconda3/lib/python3.7/site-packages (from jupyterthemes) (4.6.1)\n",
      "Requirement already satisfied: notebook>=5.6.0 in /Users/Giuliano/opt/anaconda3/lib/python3.7/site-packages (from jupyterthemes) (6.0.3)\n",
      "Requirement already satisfied: numpy>=1.11 in /Users/Giuliano/opt/anaconda3/lib/python3.7/site-packages (from matplotlib>=1.4.3->jupyterthemes) (1.18.1)\n",
      "Requirement already satisfied: python-dateutil>=2.1 in /Users/Giuliano/opt/anaconda3/lib/python3.7/site-packages (from matplotlib>=1.4.3->jupyterthemes) (2.8.1)\n",
      "Requirement already satisfied: kiwisolver>=1.0.1 in /Users/Giuliano/opt/anaconda3/lib/python3.7/site-packages (from matplotlib>=1.4.3->jupyterthemes) (1.1.0)\n",
      "Requirement already satisfied: pyparsing!=2.0.4,!=2.1.2,!=2.1.6,>=2.0.1 in /Users/Giuliano/opt/anaconda3/lib/python3.7/site-packages (from matplotlib>=1.4.3->jupyterthemes) (2.4.6)\n",
      "Requirement already satisfied: cycler>=0.10 in /Users/Giuliano/opt/anaconda3/lib/python3.7/site-packages (from matplotlib>=1.4.3->jupyterthemes) (0.10.0)\n",
      "Requirement already satisfied: six in /Users/Giuliano/opt/anaconda3/lib/python3.7/site-packages (from lesscpy>=0.11.2->jupyterthemes) (1.14.0)\n",
      "Requirement already satisfied: ply in /Users/Giuliano/opt/anaconda3/lib/python3.7/site-packages (from lesscpy>=0.11.2->jupyterthemes) (3.11)\n",
      "Requirement already satisfied: decorator in /Users/Giuliano/opt/anaconda3/lib/python3.7/site-packages (from ipython>=5.4.1->jupyterthemes) (4.4.1)\n",
      "Requirement already satisfied: jedi>=0.10 in /Users/Giuliano/opt/anaconda3/lib/python3.7/site-packages (from ipython>=5.4.1->jupyterthemes) (0.14.1)\n",
      "Requirement already satisfied: appnope; sys_platform == \"darwin\" in /Users/Giuliano/opt/anaconda3/lib/python3.7/site-packages (from ipython>=5.4.1->jupyterthemes) (0.1.0)\n",
      "Requirement already satisfied: pickleshare in /Users/Giuliano/opt/anaconda3/lib/python3.7/site-packages (from ipython>=5.4.1->jupyterthemes) (0.7.5)\n",
      "Requirement already satisfied: pygments in /Users/Giuliano/opt/anaconda3/lib/python3.7/site-packages (from ipython>=5.4.1->jupyterthemes) (2.5.2)\n",
      "Requirement already satisfied: backcall in /Users/Giuliano/opt/anaconda3/lib/python3.7/site-packages (from ipython>=5.4.1->jupyterthemes) (0.1.0)\n",
      "Requirement already satisfied: setuptools>=18.5 in /Users/Giuliano/opt/anaconda3/lib/python3.7/site-packages (from ipython>=5.4.1->jupyterthemes) (46.0.0.post20200309)\n",
      "Requirement already satisfied: traitlets>=4.2 in /Users/Giuliano/opt/anaconda3/lib/python3.7/site-packages (from ipython>=5.4.1->jupyterthemes) (4.3.3)\n",
      "Requirement already satisfied: pexpect; sys_platform != \"win32\" in /Users/Giuliano/opt/anaconda3/lib/python3.7/site-packages (from ipython>=5.4.1->jupyterthemes) (4.8.0)\n",
      "Requirement already satisfied: prompt-toolkit!=3.0.0,!=3.0.1,<3.1.0,>=2.0.0 in /Users/Giuliano/opt/anaconda3/lib/python3.7/site-packages (from ipython>=5.4.1->jupyterthemes) (3.0.3)\n",
      "Requirement already satisfied: nbconvert in /Users/Giuliano/opt/anaconda3/lib/python3.7/site-packages (from notebook>=5.6.0->jupyterthemes) (5.6.1)\n",
      "Requirement already satisfied: jupyter-client>=5.3.4 in /Users/Giuliano/opt/anaconda3/lib/python3.7/site-packages (from notebook>=5.6.0->jupyterthemes) (5.3.4)\n",
      "Requirement already satisfied: pyzmq>=17 in /Users/Giuliano/opt/anaconda3/lib/python3.7/site-packages (from notebook>=5.6.0->jupyterthemes) (18.1.1)\n",
      "Requirement already satisfied: terminado>=0.8.1 in /Users/Giuliano/opt/anaconda3/lib/python3.7/site-packages (from notebook>=5.6.0->jupyterthemes) (0.8.3)\n",
      "Requirement already satisfied: nbformat in /Users/Giuliano/opt/anaconda3/lib/python3.7/site-packages (from notebook>=5.6.0->jupyterthemes) (5.0.4)\n",
      "Requirement already satisfied: jinja2 in /Users/Giuliano/opt/anaconda3/lib/python3.7/site-packages (from notebook>=5.6.0->jupyterthemes) (2.11.1)\n",
      "Requirement already satisfied: ipykernel in /Users/Giuliano/opt/anaconda3/lib/python3.7/site-packages (from notebook>=5.6.0->jupyterthemes) (5.1.4)\n",
      "Requirement already satisfied: tornado>=5.0 in /Users/Giuliano/opt/anaconda3/lib/python3.7/site-packages (from notebook>=5.6.0->jupyterthemes) (6.0.3)\n",
      "Requirement already satisfied: ipython-genutils in /Users/Giuliano/opt/anaconda3/lib/python3.7/site-packages (from notebook>=5.6.0->jupyterthemes) (0.2.0)\n",
      "Requirement already satisfied: prometheus-client in /Users/Giuliano/opt/anaconda3/lib/python3.7/site-packages (from notebook>=5.6.0->jupyterthemes) (0.7.1)\n",
      "Requirement already satisfied: Send2Trash in /Users/Giuliano/opt/anaconda3/lib/python3.7/site-packages (from notebook>=5.6.0->jupyterthemes) (1.5.0)\n",
      "Requirement already satisfied: parso>=0.5.0 in /Users/Giuliano/opt/anaconda3/lib/python3.7/site-packages (from jedi>=0.10->ipython>=5.4.1->jupyterthemes) (0.5.2)\n",
      "Requirement already satisfied: ptyprocess>=0.5 in /Users/Giuliano/opt/anaconda3/lib/python3.7/site-packages (from pexpect; sys_platform != \"win32\"->ipython>=5.4.1->jupyterthemes) (0.6.0)\n",
      "Requirement already satisfied: wcwidth in /Users/Giuliano/opt/anaconda3/lib/python3.7/site-packages (from prompt-toolkit!=3.0.0,!=3.0.1,<3.1.0,>=2.0.0->ipython>=5.4.1->jupyterthemes) (0.1.8)\n",
      "Requirement already satisfied: mistune<2,>=0.8.1 in /Users/Giuliano/opt/anaconda3/lib/python3.7/site-packages (from nbconvert->notebook>=5.6.0->jupyterthemes) (0.8.4)\n",
      "Requirement already satisfied: defusedxml in /Users/Giuliano/opt/anaconda3/lib/python3.7/site-packages (from nbconvert->notebook>=5.6.0->jupyterthemes) (0.6.0)\n",
      "Requirement already satisfied: testpath in /Users/Giuliano/opt/anaconda3/lib/python3.7/site-packages (from nbconvert->notebook>=5.6.0->jupyterthemes) (0.4.4)\n",
      "Requirement already satisfied: bleach in /Users/Giuliano/opt/anaconda3/lib/python3.7/site-packages (from nbconvert->notebook>=5.6.0->jupyterthemes) (3.1.0)\n",
      "Requirement already satisfied: pandocfilters>=1.4.1 in /Users/Giuliano/opt/anaconda3/lib/python3.7/site-packages (from nbconvert->notebook>=5.6.0->jupyterthemes) (1.4.2)\n",
      "Requirement already satisfied: entrypoints>=0.2.2 in /Users/Giuliano/opt/anaconda3/lib/python3.7/site-packages (from nbconvert->notebook>=5.6.0->jupyterthemes) (0.3)\n",
      "Requirement already satisfied: jsonschema!=2.5.0,>=2.4 in /Users/Giuliano/opt/anaconda3/lib/python3.7/site-packages (from nbformat->notebook>=5.6.0->jupyterthemes) (3.2.0)\n",
      "Requirement already satisfied: MarkupSafe>=0.23 in /Users/Giuliano/opt/anaconda3/lib/python3.7/site-packages (from jinja2->notebook>=5.6.0->jupyterthemes) (1.1.1)\n",
      "Requirement already satisfied: webencodings in /Users/Giuliano/opt/anaconda3/lib/python3.7/site-packages (from bleach->nbconvert->notebook>=5.6.0->jupyterthemes) (0.5.1)\n",
      "Requirement already satisfied: attrs>=17.4.0 in /Users/Giuliano/opt/anaconda3/lib/python3.7/site-packages (from jsonschema!=2.5.0,>=2.4->nbformat->notebook>=5.6.0->jupyterthemes) (19.3.0)\n",
      "Requirement already satisfied: pyrsistent>=0.14.0 in /Users/Giuliano/opt/anaconda3/lib/python3.7/site-packages (from jsonschema!=2.5.0,>=2.4->nbformat->notebook>=5.6.0->jupyterthemes) (0.15.7)\n",
      "Requirement already satisfied: importlib-metadata; python_version < \"3.8\" in /Users/Giuliano/opt/anaconda3/lib/python3.7/site-packages (from jsonschema!=2.5.0,>=2.4->nbformat->notebook>=5.6.0->jupyterthemes) (1.5.0)\n",
      "Requirement already satisfied: zipp>=0.5 in /Users/Giuliano/opt/anaconda3/lib/python3.7/site-packages (from importlib-metadata; python_version < \"3.8\"->jsonschema!=2.5.0,>=2.4->nbformat->notebook>=5.6.0->jupyterthemes) (2.2.0)\n",
      "Installing collected packages: lesscpy, jupyterthemes\n",
      "Successfully installed jupyterthemes-0.20.0 lesscpy-0.14.0\n"
     ]
    }
   ],
   "source": [
    "!pip install jupyterthemes"
   ]
  },
  {
   "cell_type": "code",
   "execution_count": 28,
   "metadata": {},
   "outputs": [],
   "source": [
    "%matplotlib inline\n",
    "import seaborn as sns\n",
    "import matplotlib.pyplot as plt\n",
    "from jupyterthemes import jtplot\n",
    "jtplot.style(theme='onedork', context='talk', fscale=1.8, spines=False, gridlines='--', ticks=True, grid=False, figsize=(12, 8))\n",
    "from os.path import join\n",
    "import pandas as pd\n",
    "from matplotlib.ticker import FuncFormatter"
   ]
  },
  {
   "cell_type": "markdown",
   "metadata": {},
   "source": [
    "## Load Transaction Data"
   ]
  },
  {
   "cell_type": "code",
   "execution_count": 29,
   "metadata": {},
   "outputs": [
    {
     "data": {
      "text/html": [
       "<div>\n",
       "<style scoped>\n",
       "    .dataframe tbody tr th:only-of-type {\n",
       "        vertical-align: middle;\n",
       "    }\n",
       "\n",
       "    .dataframe tbody tr th {\n",
       "        vertical-align: top;\n",
       "    }\n",
       "\n",
       "    .dataframe thead th {\n",
       "        text-align: right;\n",
       "    }\n",
       "</style>\n",
       "<table border=\"1\" class=\"dataframe\">\n",
       "  <thead>\n",
       "    <tr style=\"text-align: right;\">\n",
       "      <th></th>\n",
       "      <th>0</th>\n",
       "      <th>1</th>\n",
       "      <th>2</th>\n",
       "      <th>3</th>\n",
       "      <th>4</th>\n",
       "      <th>5</th>\n",
       "      <th>6</th>\n",
       "      <th>7</th>\n",
       "      <th>8</th>\n",
       "      <th>9</th>\n",
       "    </tr>\n",
       "  </thead>\n",
       "  <tbody>\n",
       "    <tr>\n",
       "      <th>0</th>\n",
       "      <td>citrus fruit</td>\n",
       "      <td>semi-finished bread</td>\n",
       "      <td>margarine</td>\n",
       "      <td>ready soups</td>\n",
       "      <td>NaN</td>\n",
       "      <td>NaN</td>\n",
       "      <td>NaN</td>\n",
       "      <td>NaN</td>\n",
       "      <td>NaN</td>\n",
       "      <td>NaN</td>\n",
       "    </tr>\n",
       "    <tr>\n",
       "      <th>1</th>\n",
       "      <td>tropical fruit</td>\n",
       "      <td>yogurt</td>\n",
       "      <td>coffee</td>\n",
       "      <td>NaN</td>\n",
       "      <td>NaN</td>\n",
       "      <td>NaN</td>\n",
       "      <td>NaN</td>\n",
       "      <td>NaN</td>\n",
       "      <td>NaN</td>\n",
       "      <td>NaN</td>\n",
       "    </tr>\n",
       "    <tr>\n",
       "      <th>2</th>\n",
       "      <td>whole milk</td>\n",
       "      <td>NaN</td>\n",
       "      <td>NaN</td>\n",
       "      <td>NaN</td>\n",
       "      <td>NaN</td>\n",
       "      <td>NaN</td>\n",
       "      <td>NaN</td>\n",
       "      <td>NaN</td>\n",
       "      <td>NaN</td>\n",
       "      <td>NaN</td>\n",
       "    </tr>\n",
       "    <tr>\n",
       "      <th>3</th>\n",
       "      <td>pip fruit</td>\n",
       "      <td>yogurt</td>\n",
       "      <td>cream cheese</td>\n",
       "      <td>meat spreads</td>\n",
       "      <td>NaN</td>\n",
       "      <td>NaN</td>\n",
       "      <td>NaN</td>\n",
       "      <td>NaN</td>\n",
       "      <td>NaN</td>\n",
       "      <td>NaN</td>\n",
       "    </tr>\n",
       "    <tr>\n",
       "      <th>4</th>\n",
       "      <td>other vegetables</td>\n",
       "      <td>whole milk</td>\n",
       "      <td>condensed milk</td>\n",
       "      <td>long life bakery product</td>\n",
       "      <td>NaN</td>\n",
       "      <td>NaN</td>\n",
       "      <td>NaN</td>\n",
       "      <td>NaN</td>\n",
       "      <td>NaN</td>\n",
       "      <td>NaN</td>\n",
       "    </tr>\n",
       "    <tr>\n",
       "      <th>5</th>\n",
       "      <td>whole milk</td>\n",
       "      <td>butter</td>\n",
       "      <td>yogurt</td>\n",
       "      <td>rice</td>\n",
       "      <td>abrasive cleaner</td>\n",
       "      <td>NaN</td>\n",
       "      <td>NaN</td>\n",
       "      <td>NaN</td>\n",
       "      <td>NaN</td>\n",
       "      <td>NaN</td>\n",
       "    </tr>\n",
       "    <tr>\n",
       "      <th>6</th>\n",
       "      <td>rolls/buns</td>\n",
       "      <td>NaN</td>\n",
       "      <td>NaN</td>\n",
       "      <td>NaN</td>\n",
       "      <td>NaN</td>\n",
       "      <td>NaN</td>\n",
       "      <td>NaN</td>\n",
       "      <td>NaN</td>\n",
       "      <td>NaN</td>\n",
       "      <td>NaN</td>\n",
       "    </tr>\n",
       "    <tr>\n",
       "      <th>7</th>\n",
       "      <td>other vegetables</td>\n",
       "      <td>UHT-milk</td>\n",
       "      <td>rolls/buns</td>\n",
       "      <td>bottled beer</td>\n",
       "      <td>liquor (appetizer)</td>\n",
       "      <td>NaN</td>\n",
       "      <td>NaN</td>\n",
       "      <td>NaN</td>\n",
       "      <td>NaN</td>\n",
       "      <td>NaN</td>\n",
       "    </tr>\n",
       "    <tr>\n",
       "      <th>8</th>\n",
       "      <td>potted plants</td>\n",
       "      <td>NaN</td>\n",
       "      <td>NaN</td>\n",
       "      <td>NaN</td>\n",
       "      <td>NaN</td>\n",
       "      <td>NaN</td>\n",
       "      <td>NaN</td>\n",
       "      <td>NaN</td>\n",
       "      <td>NaN</td>\n",
       "      <td>NaN</td>\n",
       "    </tr>\n",
       "    <tr>\n",
       "      <th>9</th>\n",
       "      <td>whole milk</td>\n",
       "      <td>cereals</td>\n",
       "      <td>NaN</td>\n",
       "      <td>NaN</td>\n",
       "      <td>NaN</td>\n",
       "      <td>NaN</td>\n",
       "      <td>NaN</td>\n",
       "      <td>NaN</td>\n",
       "      <td>NaN</td>\n",
       "      <td>NaN</td>\n",
       "    </tr>\n",
       "  </tbody>\n",
       "</table>\n",
       "</div>"
      ],
      "text/plain": [
       "                  0                    1               2  \\\n",
       "0      citrus fruit  semi-finished bread       margarine   \n",
       "1    tropical fruit               yogurt          coffee   \n",
       "2        whole milk                  NaN             NaN   \n",
       "3         pip fruit               yogurt    cream cheese   \n",
       "4  other vegetables           whole milk  condensed milk   \n",
       "5        whole milk               butter          yogurt   \n",
       "6        rolls/buns                  NaN             NaN   \n",
       "7  other vegetables             UHT-milk      rolls/buns   \n",
       "8     potted plants                  NaN             NaN   \n",
       "9        whole milk              cereals             NaN   \n",
       "\n",
       "                          3                   4    5    6    7    8    9  \n",
       "0               ready soups                 NaN  NaN  NaN  NaN  NaN  NaN  \n",
       "1                       NaN                 NaN  NaN  NaN  NaN  NaN  NaN  \n",
       "2                       NaN                 NaN  NaN  NaN  NaN  NaN  NaN  \n",
       "3              meat spreads                 NaN  NaN  NaN  NaN  NaN  NaN  \n",
       "4  long life bakery product                 NaN  NaN  NaN  NaN  NaN  NaN  \n",
       "5                      rice    abrasive cleaner  NaN  NaN  NaN  NaN  NaN  \n",
       "6                       NaN                 NaN  NaN  NaN  NaN  NaN  NaN  \n",
       "7              bottled beer  liquor (appetizer)  NaN  NaN  NaN  NaN  NaN  \n",
       "8                       NaN                 NaN  NaN  NaN  NaN  NaN  NaN  \n",
       "9                       NaN                 NaN  NaN  NaN  NaN  NaN  NaN  "
      ]
     },
     "execution_count": 29,
     "metadata": {},
     "output_type": "execute_result"
    }
   ],
   "source": [
    "baskets = pd.read_csv('groceries.csv', header=None)\n",
    "baskets.iloc[:10, :10]"
   ]
  },
  {
   "cell_type": "code",
   "execution_count": 30,
   "metadata": {},
   "outputs": [
    {
     "name": "stdout",
     "output_type": "stream",
     "text": [
      "<class 'pandas.core.frame.DataFrame'>\n",
      "RangeIndex: 9835 entries, 0 to 9834\n",
      "Data columns (total 32 columns):\n",
      " #   Column  Non-Null Count  Dtype \n",
      "---  ------  --------------  ----- \n",
      " 0   0       9835 non-null   object\n",
      " 1   1       7676 non-null   object\n",
      " 2   2       6033 non-null   object\n",
      " 3   3       4734 non-null   object\n",
      " 4   4       3729 non-null   object\n",
      " 5   5       2874 non-null   object\n",
      " 6   6       2229 non-null   object\n",
      " 7   7       1684 non-null   object\n",
      " 8   8       1246 non-null   object\n",
      " 9   9       896 non-null    object\n",
      " 10  10      650 non-null    object\n",
      " 11  11      468 non-null    object\n",
      " 12  12      351 non-null    object\n",
      " 13  13      273 non-null    object\n",
      " 14  14      196 non-null    object\n",
      " 15  15      141 non-null    object\n",
      " 16  16      95 non-null     object\n",
      " 17  17      66 non-null     object\n",
      " 18  18      52 non-null     object\n",
      " 19  19      38 non-null     object\n",
      " 20  20      29 non-null     object\n",
      " 21  21      18 non-null     object\n",
      " 22  22      14 non-null     object\n",
      " 23  23      8 non-null      object\n",
      " 24  24      7 non-null      object\n",
      " 25  25      7 non-null      object\n",
      " 26  26      6 non-null      object\n",
      " 27  27      5 non-null      object\n",
      " 28  28      4 non-null      object\n",
      " 29  29      1 non-null      object\n",
      " 30  30      1 non-null      object\n",
      " 31  31      1 non-null      object\n",
      "dtypes: object(32)\n",
      "memory usage: 2.4+ MB\n"
     ]
    }
   ],
   "source": [
    "baskets.info()"
   ]
  },
  {
   "cell_type": "markdown",
   "metadata": {},
   "source": [
    "# Plot Basket Size Breakdown"
   ]
  },
  {
   "cell_type": "code",
   "execution_count": 31,
   "metadata": {},
   "outputs": [
    {
     "data": {
      "image/png": "[encoded data removed]",
      "text/plain": [
       "<Figure size 1123.2x748.8 with 1 Axes>"
      ]
     },
     "metadata": {},
     "output_type": "display_data"
    }
   ],
   "source": [
    "baskets.count(axis=1).value_counts().plot.bar(title='Basket Size')\n",
    "plt.xlabel('# Items in Basket')\n",
    "plt.ylabel('# Transactions')\n",
    "plt.tight_layout();"
   ]
  },
  {
   "cell_type": "markdown",
   "metadata": {},
   "source": [
    "# Reshape data to create transaction-product matrix"
   ]
  },
  {
   "cell_type": "code",
   "execution_count": 32,
   "metadata": {},
   "outputs": [
    {
     "data": {
      "text/plain": [
       "tx_id  basket_id\n",
       "0      0                   citrus fruit\n",
       "       1            semi-finished bread\n",
       "       2                      margarine\n",
       "       3                    ready soups\n",
       "1      0                 tropical fruit\n",
       "dtype: object"
      ]
     },
     "execution_count": 32,
     "metadata": {},
     "output_type": "execute_result"
    }
   ],
   "source": [
    "baskets_stacked = baskets.stack()\n",
    "baskets_stacked.index.names = ['tx_id', 'basket_id']\n",
    "baskets_stacked.head()"
   ]
  },
  {
   "cell_type": "markdown",
   "metadata": {},
   "source": [
    "# Explore Item Frequencies"
   ]
  },
  {
   "cell_type": "code",
   "execution_count": 33,
   "metadata": {},
   "outputs": [
    {
     "data": {
      "text/plain": [
       "whole milk          2513\n",
       "other vegetables    1903\n",
       "rolls/buns          1809\n",
       "soda                1715\n",
       "yogurt              1372\n",
       "dtype: int64"
      ]
     },
     "execution_count": 33,
     "metadata": {},
     "output_type": "execute_result"
    }
   ],
   "source": [
    "baskets_stacked.value_counts().head()"
   ]
  },
  {
   "cell_type": "code",
   "execution_count": 34,
   "metadata": {},
   "outputs": [
    {
     "data": {
      "text/plain": [
       "kitchen utensil          4\n",
       "bags                     4\n",
       "preservation products    2\n",
       "baby food                1\n",
       "sound storage medium     1\n",
       "dtype: int64"
      ]
     },
     "execution_count": 34,
     "metadata": {},
     "output_type": "execute_result"
    }
   ],
   "source": [
    "baskets_stacked.value_counts().tail()"
   ]
  },
  {
   "cell_type": "code",
   "execution_count": 35,
   "metadata": {},
   "outputs": [
    {
     "data": {
      "text/plain": [
       "169"
      ]
     },
     "execution_count": 35,
     "metadata": {},
     "output_type": "execute_result"
    }
   ],
   "source": [
    "baskets_stacked.nunique()"
   ]
  },
  {
   "cell_type": "markdown",
   "metadata": {},
   "source": [
    "# Finalize Transaction-Product Matri"
   ]
  },
  {
   "cell_type": "code",
   "execution_count": 36,
   "metadata": {},
   "outputs": [
    {
     "name": "stdout",
     "output_type": "stream",
     "text": [
      "<class 'pandas.core.frame.DataFrame'>\n",
      "MultiIndex: 43367 entries, (0, 0) to (9834, 4)\n",
      "Columns: 169 entries, Instant food products to zwieback\n",
      "dtypes: uint8(169)\n",
      "memory usage: 7.1 MB\n"
     ]
    }
   ],
   "source": [
    "items = pd.get_dummies(baskets_stacked, prefix='', prefix_sep='')\n",
    "items.info()"
   ]
  },
  {
   "cell_type": "code",
   "execution_count": 37,
   "metadata": {},
   "outputs": [
    {
     "data": {
      "text/html": [
       "<div>\n",
       "<style scoped>\n",
       "    .dataframe tbody tr th:only-of-type {\n",
       "        vertical-align: middle;\n",
       "    }\n",
       "\n",
       "    .dataframe tbody tr th {\n",
       "        vertical-align: top;\n",
       "    }\n",
       "\n",
       "    .dataframe thead th {\n",
       "        text-align: right;\n",
       "    }\n",
       "</style>\n",
       "<table border=\"1\" class=\"dataframe\">\n",
       "  <thead>\n",
       "    <tr style=\"text-align: right;\">\n",
       "      <th></th>\n",
       "      <th></th>\n",
       "      <th>Instant food products</th>\n",
       "      <th>UHT-milk</th>\n",
       "      <th>abrasive cleaner</th>\n",
       "      <th>artif. sweetener</th>\n",
       "      <th>baby cosmetics</th>\n",
       "      <th>baby food</th>\n",
       "      <th>bags</th>\n",
       "      <th>baking powder</th>\n",
       "      <th>bathroom cleaner</th>\n",
       "      <th>beef</th>\n",
       "      <th>...</th>\n",
       "      <th>turkey</th>\n",
       "      <th>vinegar</th>\n",
       "      <th>waffles</th>\n",
       "      <th>whipped/sour cream</th>\n",
       "      <th>whisky</th>\n",
       "      <th>white bread</th>\n",
       "      <th>white wine</th>\n",
       "      <th>whole milk</th>\n",
       "      <th>yogurt</th>\n",
       "      <th>zwieback</th>\n",
       "    </tr>\n",
       "    <tr>\n",
       "      <th>tx_id</th>\n",
       "      <th>basket_id</th>\n",
       "      <th></th>\n",
       "      <th></th>\n",
       "      <th></th>\n",
       "      <th></th>\n",
       "      <th></th>\n",
       "      <th></th>\n",
       "      <th></th>\n",
       "      <th></th>\n",
       "      <th></th>\n",
       "      <th></th>\n",
       "      <th></th>\n",
       "      <th></th>\n",
       "      <th></th>\n",
       "      <th></th>\n",
       "      <th></th>\n",
       "      <th></th>\n",
       "      <th></th>\n",
       "      <th></th>\n",
       "      <th></th>\n",
       "      <th></th>\n",
       "      <th></th>\n",
       "    </tr>\n",
       "  </thead>\n",
       "  <tbody>\n",
       "    <tr>\n",
       "      <th rowspan=\"4\" valign=\"top\">0</th>\n",
       "      <th>0</th>\n",
       "      <td>0</td>\n",
       "      <td>0</td>\n",
       "      <td>0</td>\n",
       "      <td>0</td>\n",
       "      <td>0</td>\n",
       "      <td>0</td>\n",
       "      <td>0</td>\n",
       "      <td>0</td>\n",
       "      <td>0</td>\n",
       "      <td>0</td>\n",
       "      <td>...</td>\n",
       "      <td>0</td>\n",
       "      <td>0</td>\n",
       "      <td>0</td>\n",
       "      <td>0</td>\n",
       "      <td>0</td>\n",
       "      <td>0</td>\n",
       "      <td>0</td>\n",
       "      <td>0</td>\n",
       "      <td>0</td>\n",
       "      <td>0</td>\n",
       "    </tr>\n",
       "    <tr>\n",
       "      <th>1</th>\n",
       "      <td>0</td>\n",
       "      <td>0</td>\n",
       "      <td>0</td>\n",
       "      <td>0</td>\n",
       "      <td>0</td>\n",
       "      <td>0</td>\n",
       "      <td>0</td>\n",
       "      <td>0</td>\n",
       "      <td>0</td>\n",
       "      <td>0</td>\n",
       "      <td>...</td>\n",
       "      <td>0</td>\n",
       "      <td>0</td>\n",
       "      <td>0</td>\n",
       "      <td>0</td>\n",
       "      <td>0</td>\n",
       "      <td>0</td>\n",
       "      <td>0</td>\n",
       "      <td>0</td>\n",
       "      <td>0</td>\n",
       "      <td>0</td>\n",
       "    </tr>\n",
       "    <tr>\n",
       "      <th>2</th>\n",
       "      <td>0</td>\n",
       "      <td>0</td>\n",
       "      <td>0</td>\n",
       "      <td>0</td>\n",
       "      <td>0</td>\n",
       "      <td>0</td>\n",
       "      <td>0</td>\n",
       "      <td>0</td>\n",
       "      <td>0</td>\n",
       "      <td>0</td>\n",
       "      <td>...</td>\n",
       "      <td>0</td>\n",
       "      <td>0</td>\n",
       "      <td>0</td>\n",
       "      <td>0</td>\n",
       "      <td>0</td>\n",
       "      <td>0</td>\n",
       "      <td>0</td>\n",
       "      <td>0</td>\n",
       "      <td>0</td>\n",
       "      <td>0</td>\n",
       "    </tr>\n",
       "    <tr>\n",
       "      <th>3</th>\n",
       "      <td>0</td>\n",
       "      <td>0</td>\n",
       "      <td>0</td>\n",
       "      <td>0</td>\n",
       "      <td>0</td>\n",
       "      <td>0</td>\n",
       "      <td>0</td>\n",
       "      <td>0</td>\n",
       "      <td>0</td>\n",
       "      <td>0</td>\n",
       "      <td>...</td>\n",
       "      <td>0</td>\n",
       "      <td>0</td>\n",
       "      <td>0</td>\n",
       "      <td>0</td>\n",
       "      <td>0</td>\n",
       "      <td>0</td>\n",
       "      <td>0</td>\n",
       "      <td>0</td>\n",
       "      <td>0</td>\n",
       "      <td>0</td>\n",
       "    </tr>\n",
       "    <tr>\n",
       "      <th>1</th>\n",
       "      <th>0</th>\n",
       "      <td>0</td>\n",
       "      <td>0</td>\n",
       "      <td>0</td>\n",
       "      <td>0</td>\n",
       "      <td>0</td>\n",
       "      <td>0</td>\n",
       "      <td>0</td>\n",
       "      <td>0</td>\n",
       "      <td>0</td>\n",
       "      <td>0</td>\n",
       "      <td>...</td>\n",
       "      <td>0</td>\n",
       "      <td>0</td>\n",
       "      <td>0</td>\n",
       "      <td>0</td>\n",
       "      <td>0</td>\n",
       "      <td>0</td>\n",
       "      <td>0</td>\n",
       "      <td>0</td>\n",
       "      <td>0</td>\n",
       "      <td>0</td>\n",
       "    </tr>\n",
       "  </tbody>\n",
       "</table>\n",
       "<p>5 rows × 169 columns</p>\n",
       "</div>"
      ],
      "text/plain": [
       "                 Instant food products  UHT-milk  abrasive cleaner  \\\n",
       "tx_id basket_id                                                      \n",
       "0     0                              0         0                 0   \n",
       "      1                              0         0                 0   \n",
       "      2                              0         0                 0   \n",
       "      3                              0         0                 0   \n",
       "1     0                              0         0                 0   \n",
       "\n",
       "                 artif. sweetener  baby cosmetics  baby food  bags  \\\n",
       "tx_id basket_id                                                      \n",
       "0     0                         0               0          0     0   \n",
       "      1                         0               0          0     0   \n",
       "      2                         0               0          0     0   \n",
       "      3                         0               0          0     0   \n",
       "1     0                         0               0          0     0   \n",
       "\n",
       "                 baking powder  bathroom cleaner  beef  ...  turkey  vinegar  \\\n",
       "tx_id basket_id                                         ...                    \n",
       "0     0                      0                 0     0  ...       0        0   \n",
       "      1                      0                 0     0  ...       0        0   \n",
       "      2                      0                 0     0  ...       0        0   \n",
       "      3                      0                 0     0  ...       0        0   \n",
       "1     0                      0                 0     0  ...       0        0   \n",
       "\n",
       "                 waffles  whipped/sour cream  whisky  white bread  white wine  \\\n",
       "tx_id basket_id                                                                 \n",
       "0     0                0                   0       0            0           0   \n",
       "      1                0                   0       0            0           0   \n",
       "      2                0                   0       0            0           0   \n",
       "      3                0                   0       0            0           0   \n",
       "1     0                0                   0       0            0           0   \n",
       "\n",
       "                 whole milk  yogurt  zwieback  \n",
       "tx_id basket_id                                \n",
       "0     0                   0       0         0  \n",
       "      1                   0       0         0  \n",
       "      2                   0       0         0  \n",
       "      3                   0       0         0  \n",
       "1     0                   0       0         0  \n",
       "\n",
       "[5 rows x 169 columns]"
      ]
     },
     "execution_count": 37,
     "metadata": {},
     "output_type": "execute_result"
    }
   ],
   "source": [
    "items.head()"
   ]
  },
  {
   "cell_type": "markdown",
   "metadata": {},
   "source": [
    "# Sum indicator variables by transaction"
   ]
  },
  {
   "cell_type": "code",
   "execution_count": 38,
   "metadata": {},
   "outputs": [
    {
     "data": {
      "text/html": [
       "<div>\n",
       "<style scoped>\n",
       "    .dataframe tbody tr th:only-of-type {\n",
       "        vertical-align: middle;\n",
       "    }\n",
       "\n",
       "    .dataframe tbody tr th {\n",
       "        vertical-align: top;\n",
       "    }\n",
       "\n",
       "    .dataframe thead th {\n",
       "        text-align: right;\n",
       "    }\n",
       "</style>\n",
       "<table border=\"1\" class=\"dataframe\">\n",
       "  <thead>\n",
       "    <tr style=\"text-align: right;\">\n",
       "      <th></th>\n",
       "      <th>Instant food products</th>\n",
       "      <th>UHT-milk</th>\n",
       "      <th>abrasive cleaner</th>\n",
       "      <th>artif. sweetener</th>\n",
       "      <th>baby cosmetics</th>\n",
       "      <th>baby food</th>\n",
       "      <th>bags</th>\n",
       "      <th>baking powder</th>\n",
       "      <th>bathroom cleaner</th>\n",
       "      <th>beef</th>\n",
       "      <th>...</th>\n",
       "      <th>turkey</th>\n",
       "      <th>vinegar</th>\n",
       "      <th>waffles</th>\n",
       "      <th>whipped/sour cream</th>\n",
       "      <th>whisky</th>\n",
       "      <th>white bread</th>\n",
       "      <th>white wine</th>\n",
       "      <th>whole milk</th>\n",
       "      <th>yogurt</th>\n",
       "      <th>zwieback</th>\n",
       "    </tr>\n",
       "    <tr>\n",
       "      <th>tx_id</th>\n",
       "      <th></th>\n",
       "      <th></th>\n",
       "      <th></th>\n",
       "      <th></th>\n",
       "      <th></th>\n",
       "      <th></th>\n",
       "      <th></th>\n",
       "      <th></th>\n",
       "      <th></th>\n",
       "      <th></th>\n",
       "      <th></th>\n",
       "      <th></th>\n",
       "      <th></th>\n",
       "      <th></th>\n",
       "      <th></th>\n",
       "      <th></th>\n",
       "      <th></th>\n",
       "      <th></th>\n",
       "      <th></th>\n",
       "      <th></th>\n",
       "      <th></th>\n",
       "    </tr>\n",
       "  </thead>\n",
       "  <tbody>\n",
       "    <tr>\n",
       "      <th>0</th>\n",
       "      <td>0</td>\n",
       "      <td>0</td>\n",
       "      <td>0</td>\n",
       "      <td>0</td>\n",
       "      <td>0</td>\n",
       "      <td>0</td>\n",
       "      <td>0</td>\n",
       "      <td>0</td>\n",
       "      <td>0</td>\n",
       "      <td>0</td>\n",
       "      <td>...</td>\n",
       "      <td>0</td>\n",
       "      <td>0</td>\n",
       "      <td>0</td>\n",
       "      <td>0</td>\n",
       "      <td>0</td>\n",
       "      <td>0</td>\n",
       "      <td>0</td>\n",
       "      <td>0</td>\n",
       "      <td>0</td>\n",
       "      <td>0</td>\n",
       "    </tr>\n",
       "    <tr>\n",
       "      <th>1</th>\n",
       "      <td>0</td>\n",
       "      <td>0</td>\n",
       "      <td>0</td>\n",
       "      <td>0</td>\n",
       "      <td>0</td>\n",
       "      <td>0</td>\n",
       "      <td>0</td>\n",
       "      <td>0</td>\n",
       "      <td>0</td>\n",
       "      <td>0</td>\n",
       "      <td>...</td>\n",
       "      <td>0</td>\n",
       "      <td>0</td>\n",
       "      <td>0</td>\n",
       "      <td>0</td>\n",
       "      <td>0</td>\n",
       "      <td>0</td>\n",
       "      <td>0</td>\n",
       "      <td>0</td>\n",
       "      <td>1</td>\n",
       "      <td>0</td>\n",
       "    </tr>\n",
       "    <tr>\n",
       "      <th>2</th>\n",
       "      <td>0</td>\n",
       "      <td>0</td>\n",
       "      <td>0</td>\n",
       "      <td>0</td>\n",
       "      <td>0</td>\n",
       "      <td>0</td>\n",
       "      <td>0</td>\n",
       "      <td>0</td>\n",
       "      <td>0</td>\n",
       "      <td>0</td>\n",
       "      <td>...</td>\n",
       "      <td>0</td>\n",
       "      <td>0</td>\n",
       "      <td>0</td>\n",
       "      <td>0</td>\n",
       "      <td>0</td>\n",
       "      <td>0</td>\n",
       "      <td>0</td>\n",
       "      <td>1</td>\n",
       "      <td>0</td>\n",
       "      <td>0</td>\n",
       "    </tr>\n",
       "    <tr>\n",
       "      <th>3</th>\n",
       "      <td>0</td>\n",
       "      <td>0</td>\n",
       "      <td>0</td>\n",
       "      <td>0</td>\n",
       "      <td>0</td>\n",
       "      <td>0</td>\n",
       "      <td>0</td>\n",
       "      <td>0</td>\n",
       "      <td>0</td>\n",
       "      <td>0</td>\n",
       "      <td>...</td>\n",
       "      <td>0</td>\n",
       "      <td>0</td>\n",
       "      <td>0</td>\n",
       "      <td>0</td>\n",
       "      <td>0</td>\n",
       "      <td>0</td>\n",
       "      <td>0</td>\n",
       "      <td>0</td>\n",
       "      <td>1</td>\n",
       "      <td>0</td>\n",
       "    </tr>\n",
       "    <tr>\n",
       "      <th>4</th>\n",
       "      <td>0</td>\n",
       "      <td>0</td>\n",
       "      <td>0</td>\n",
       "      <td>0</td>\n",
       "      <td>0</td>\n",
       "      <td>0</td>\n",
       "      <td>0</td>\n",
       "      <td>0</td>\n",
       "      <td>0</td>\n",
       "      <td>0</td>\n",
       "      <td>...</td>\n",
       "      <td>0</td>\n",
       "      <td>0</td>\n",
       "      <td>0</td>\n",
       "      <td>0</td>\n",
       "      <td>0</td>\n",
       "      <td>0</td>\n",
       "      <td>0</td>\n",
       "      <td>1</td>\n",
       "      <td>0</td>\n",
       "      <td>0</td>\n",
       "    </tr>\n",
       "  </tbody>\n",
       "</table>\n",
       "<p>5 rows × 169 columns</p>\n",
       "</div>"
      ],
      "text/plain": [
       "       Instant food products  UHT-milk  abrasive cleaner  artif. sweetener  \\\n",
       "tx_id                                                                        \n",
       "0                          0         0                 0                 0   \n",
       "1                          0         0                 0                 0   \n",
       "2                          0         0                 0                 0   \n",
       "3                          0         0                 0                 0   \n",
       "4                          0         0                 0                 0   \n",
       "\n",
       "       baby cosmetics  baby food  bags  baking powder  bathroom cleaner  beef  \\\n",
       "tx_id                                                                           \n",
       "0                   0          0     0              0                 0     0   \n",
       "1                   0          0     0              0                 0     0   \n",
       "2                   0          0     0              0                 0     0   \n",
       "3                   0          0     0              0                 0     0   \n",
       "4                   0          0     0              0                 0     0   \n",
       "\n",
       "       ...  turkey  vinegar  waffles  whipped/sour cream  whisky  white bread  \\\n",
       "tx_id  ...                                                                      \n",
       "0      ...       0        0        0                   0       0            0   \n",
       "1      ...       0        0        0                   0       0            0   \n",
       "2      ...       0        0        0                   0       0            0   \n",
       "3      ...       0        0        0                   0       0            0   \n",
       "4      ...       0        0        0                   0       0            0   \n",
       "\n",
       "       white wine  whole milk  yogurt  zwieback  \n",
       "tx_id                                            \n",
       "0               0           0       0         0  \n",
       "1               0           0       1         0  \n",
       "2               0           1       0         0  \n",
       "3               0           0       1         0  \n",
       "4               0           1       0         0  \n",
       "\n",
       "[5 rows x 169 columns]"
      ]
     },
     "execution_count": 38,
     "metadata": {},
     "output_type": "execute_result"
    }
   ],
   "source": [
    "\n",
    "items = items.groupby(level='tx_id').sum()\n",
    "items.head()"
   ]
  },
  {
   "cell_type": "markdown",
   "metadata": {},
   "source": [
    "# Create function from data transform steps\n"
   ]
  },
  {
   "cell_type": "code",
   "execution_count": 39,
   "metadata": {},
   "outputs": [],
   "source": [
    "def get_transaction_data():\n",
    "    \"\"\"Load groceries transaction data into DataFrame\"\"\"\n",
    "    df = pd.read_csv('grocery_transactions.csv')\n",
    "    df = df.stack().reset_index(-1, drop=True)\n",
    "    df.index.names = ['tx_id']\n",
    "    df = pd.get_dummies(df, prefix='', prefix_sep='')\n",
    "    return df.groupby(level='tx_id').sum()"
   ]
  },
  {
   "cell_type": "markdown",
   "metadata": {},
   "source": [
    "# Explore Item Support"
   ]
  },
  {
   "cell_type": "code",
   "execution_count": 40,
   "metadata": {},
   "outputs": [
    {
     "data": {
      "image/png": "[encoded data removed]",
      "text/plain": [
       "<Figure size 1123.2x748.8 with 1 Axes>"
      ]
     },
     "metadata": {},
     "output_type": "display_data"
    }
   ],
   "source": [
    "support = items.sum().div(len(items)).sort_values(ascending=False)\n",
    "ax = support.plot.bar(title='Item Support')\n",
    "ax.locator_params(nbins=30, axis='x')\n",
    "plt.xticks(rotation=60)\n",
    "plt.tight_layout();"
   ]
  },
  {
   "cell_type": "markdown",
   "metadata": {},
   "source": [
    "# Display Transaction-Product Matrix"
   ]
  },
  {
   "cell_type": "code",
   "execution_count": 41,
   "metadata": {},
   "outputs": [
    {
     "data": {
      "image/png": "[encoded data removed]",
      "text/plain": [
       "<Figure size 1123.2x748.8 with 1 Axes>"
      ]
     },
     "metadata": {},
     "output_type": "display_data"
    }
   ],
   "source": [
    "sns.heatmap(items.loc[:, support.index], cbar=False, cmap='Blues', xticklabels=10)\n",
    "plt.gca().set_title('Transaction-Item Matrix')\n",
    "plt.xticks(rotation=60)\n",
    "plt.tight_layout();"
   ]
  },
  {
   "cell_type": "markdown",
   "metadata": {},
   "source": [
    "# Association Rules"
   ]
  },
  {
   "cell_type": "code",
   "execution_count": 42,
   "metadata": {},
   "outputs": [],
   "source": [
    "import pandas as pd\n",
    "import numpy as np\n",
    "from itertools import combinations\n",
    "from time import time\n",
    "from scipy.stats import fisher_exact\n",
    "from jupyterthemes import jtplot\n",
    "jtplot.style(theme='onedork', context='talk', fscale=1.8, spines=False, gridlines='--', ticks=True, grid=False, figsize=(12, 8))\n",
    "import warnings\n",
    "warnings.filterwarnings('ignore')"
   ]
  },
  {
   "cell_type": "markdown",
   "metadata": {},
   "source": [
    "# Load the data & build the product-transaction matrix"
   ]
  },
  {
   "cell_type": "code",
   "execution_count": 43,
   "metadata": {},
   "outputs": [],
   "source": [
    "def get_transaction_data():\n",
    "    \"\"\"Load groceries transaction data into DataFrame\"\"\"\n",
    "    df = pd.read_csv('groceries.csv')\n",
    "    df = df.stack().reset_index(-1, drop=True)\n",
    "    df.index.names = ['tx_id']\n",
    "    return pd.get_dummies(df, prefix='', prefix_sep='').groupby(level='tx_id').sum()"
   ]
  },
  {
   "cell_type": "code",
   "execution_count": 44,
   "metadata": {},
   "outputs": [],
   "source": [
    "data = get_transaction_data()\n",
    "\n",
    "item_id = pd.Series(dict(enumerate(data.columns)))\n",
    "transactions = data.values\n",
    "n_txn = transactions.shape[0]\n",
    "min_support = 0.01\n",
    "\n",
    "item_length = 1\n",
    "candidates = list(zip(item_id.index))\n",
    "itemsets = pd.DataFrame(columns=['support', 'length'])\n",
    "\n",
    "new_rules = []\n",
    "rule_data = ['itemset', 'antecedent', 'consequent',\n",
    "             'support_rule', 'support_antecedent', 'support_consequent',\n",
    "             'confidence', 'lift', 'pvalue']\n",
    "rules = pd.DataFrame(columns=rule_data)"
   ]
  },
  {
   "cell_type": "code",
   "execution_count": 45,
   "metadata": {},
   "outputs": [
    {
     "data": {
      "text/plain": [
       "0      Instant food products\n",
       "1                   UHT-milk\n",
       "2           abrasive cleaner\n",
       "3           artif. sweetener\n",
       "4             baby cosmetics\n",
       "               ...          \n",
       "164              white bread\n",
       "165               white wine\n",
       "166               whole milk\n",
       "167                   yogurt\n",
       "168                 zwieback\n",
       "Length: 169, dtype: object"
      ]
     },
     "execution_count": 45,
     "metadata": {},
     "output_type": "execute_result"
    }
   ],
   "source": [
    "item_id"
   ]
  },
  {
   "cell_type": "code",
   "execution_count": 46,
   "metadata": {},
   "outputs": [],
   "source": [
    "def prune_candidates(all_txn, candidates, candidate_size, min_support):\n",
    "    \"\"\"Return DataFrame with itemsets of candidate_size with min_support\n",
    "        all_txn: numpy array of transaction-product matrix\n",
    "        candidates: list of tuples containing product id\n",
    "        candidate_size: length of item set\n",
    "        min_support: support threshold\n",
    "        \"\"\"\n",
    "    itemsets = {}\n",
    "    for candidate in candidates:\n",
    "        candidate_txn = all_txn[:, candidate].reshape(-1, candidate_size)\n",
    "        relevant_txn = candidate_txn[(candidate_txn == 1).all(axis=1)]\n",
    "        support = relevant_txn.shape[0] / all_txn.shape[0]\n",
    "        if support >= min_support:\n",
    "            itemsets[frozenset(candidate)] = support\n",
    "    return pd.Series(itemsets).to_frame('support').assign(length=candidate_size)"
   ]
  },
  {
   "cell_type": "markdown",
   "metadata": {},
   "source": [
    "# Algorithm for Association rules"
   ]
  },
  {
   "cell_type": "code",
   "execution_count": 48,
   "metadata": {},
   "outputs": [],
   "source": [
    "def find_association_rules(itemsets, n_txn, n_items, min_confidence = 0, min_lift = 0, min_pvalue = 0):\n",
    "    \"\"\"Find rules {antecedent} => {consequent} with min_confidence, min_lift and min_pvalue\n",
    "    itemsets: DataFrame containing all itemsets and their support\n",
    "    min_confidence, min_lift, min_pvalue: confidence & lift & pvalue thresholds\n",
    "    \"\"\"\n",
    "    support = itemsets.loc[:, 'support'].to_dict()\n",
    "    new_rules = []\n",
    "    for itemset in itemsets.loc[itemsets.length == n_items].index:\n",
    "        for n_antecedents in range(1, n_items):\n",
    "            antecedents = [frozenset(a)\n",
    "                           for a in combinations(itemset, r=n_antecedents)]\n",
    "            for antecedent in antecedents:\n",
    "                consequent = itemset.difference(antecedent)\n",
    "                sAC = support[itemset]\n",
    "                sA, sC = support[antecedent], support[consequent]\n",
    "                confidence = sAC / sA\n",
    "                lift = sAC / (sA * sC)\n",
    "                contingency_table = n_txn * np.array([[sAC, sA - sAC],\n",
    "                                        [sC - sAC, 1 - sA - sC + sAC]])\n",
    "                _, p_value = fisher_exact(contingency_table,\n",
    "                                          alternative='greater')\n",
    "\n",
    "                if (confidence >= min_confidence) and (lift >= min_lift) and (p_value >= min_pvalue):\n",
    "                    new_rule = [itemset, antecedent, consequent,\n",
    "                                support[itemset], support[antecedent], support[consequent],\n",
    "                                confidence, lift, p_value]\n",
    "                    new_rules.append(new_rule)\n",
    "    return new_rules"
   ]
  },
  {
   "cell_type": "code",
   "execution_count": 49,
   "metadata": {},
   "outputs": [
    {
     "name": "stdout",
     "output_type": "stream",
     "text": [
      "Itemset Length 1\tCandidates:     169\tNew Items:      88\tNew Rules:       0\n",
      "Itemset Length 2\tCandidates:   3,828\tNew Items:     213\tNew Rules:     426\n",
      "Itemset Length 3\tCandidates:  16,215\tNew Items:      32\tNew Rules:     192\n",
      "Itemset Length 4\tCandidates:   3,060\tNew Items:       0\tNew Rules:       0\n"
     ]
    }
   ],
   "source": [
    "while candidates:\n",
    "    new_items = prune_candidates(transactions, candidates, item_length, min_support)\n",
    "    itemsets = itemsets.append(new_items)\n",
    "\n",
    "    if item_length > 1:\n",
    "        new_rules = find_association_rules(itemsets, n_txn, item_length)\n",
    "        rules = pd.concat([rules, pd.DataFrame(new_rules, columns=rules.columns)], ignore_index=True)\n",
    "        \n",
    "    print('Itemset Length {}\\tCandidates: {:>7,.0f}\\tNew Items: {:>7,.0f}\\tNew Rules: {:>7,.0f}'.format(\n",
    "            item_length, len(candidates), len(new_items), len(new_rules)))\n",
    "    \n",
    "    item_length += 1\n",
    "    remaining_items = np.unique([item for t in new_items.index for item in t])\n",
    "    candidates = list(combinations(remaining_items, r=item_length))\n",
    "\n",
    "rules = rules.apply(pd.to_numeric, errors='ignore')"
   ]
  },
  {
   "cell_type": "code",
   "execution_count": 50,
   "metadata": {},
   "outputs": [
    {
     "name": "stdout",
     "output_type": "stream",
     "text": [
      "<class 'pandas.core.frame.DataFrame'>\n",
      "RangeIndex: 618 entries, 0 to 617\n",
      "Data columns (total 9 columns):\n",
      " #   Column              Non-Null Count  Dtype  \n",
      "---  ------              --------------  -----  \n",
      " 0   itemset             618 non-null    object \n",
      " 1   antecedent          618 non-null    object \n",
      " 2   consequent          618 non-null    object \n",
      " 3   support_rule        618 non-null    float64\n",
      " 4   support_antecedent  618 non-null    float64\n",
      " 5   support_consequent  618 non-null    float64\n",
      " 6   confidence          618 non-null    float64\n",
      " 7   lift                618 non-null    float64\n",
      " 8   pvalue              618 non-null    float64\n",
      "dtypes: float64(6), object(3)\n",
      "memory usage: 43.6+ KB\n"
     ]
    },
    {
     "data": {
      "text/html": [
       "<div>\n",
       "<style scoped>\n",
       "    .dataframe tbody tr th:only-of-type {\n",
       "        vertical-align: middle;\n",
       "    }\n",
       "\n",
       "    .dataframe tbody tr th {\n",
       "        vertical-align: top;\n",
       "    }\n",
       "\n",
       "    .dataframe thead th {\n",
       "        text-align: right;\n",
       "    }\n",
       "</style>\n",
       "<table border=\"1\" class=\"dataframe\">\n",
       "  <thead>\n",
       "    <tr style=\"text-align: right;\">\n",
       "      <th></th>\n",
       "      <th>itemset</th>\n",
       "      <th>antecedent</th>\n",
       "      <th>consequent</th>\n",
       "      <th>support_rule</th>\n",
       "      <th>support_antecedent</th>\n",
       "      <th>support_consequent</th>\n",
       "      <th>confidence</th>\n",
       "      <th>lift</th>\n",
       "      <th>pvalue</th>\n",
       "    </tr>\n",
       "  </thead>\n",
       "  <tbody>\n",
       "    <tr>\n",
       "      <th>0</th>\n",
       "      <td>(9, 103)</td>\n",
       "      <td>(9)</td>\n",
       "      <td>(103)</td>\n",
       "      <td>0.019727</td>\n",
       "      <td>0.052471</td>\n",
       "      <td>0.193512</td>\n",
       "      <td>0.375969</td>\n",
       "      <td>1.942869</td>\n",
       "      <td>2.229585e-23</td>\n",
       "    </tr>\n",
       "    <tr>\n",
       "      <th>1</th>\n",
       "      <td>(9, 103)</td>\n",
       "      <td>(103)</td>\n",
       "      <td>(9)</td>\n",
       "      <td>0.019727</td>\n",
       "      <td>0.193512</td>\n",
       "      <td>0.052471</td>\n",
       "      <td>0.101944</td>\n",
       "      <td>1.942869</td>\n",
       "      <td>2.229585e-23</td>\n",
       "    </tr>\n",
       "    <tr>\n",
       "      <th>2</th>\n",
       "      <td>(9, 123)</td>\n",
       "      <td>(9)</td>\n",
       "      <td>(123)</td>\n",
       "      <td>0.013626</td>\n",
       "      <td>0.052471</td>\n",
       "      <td>0.183954</td>\n",
       "      <td>0.259690</td>\n",
       "      <td>1.411714</td>\n",
       "      <td>7.615064e-06</td>\n",
       "    </tr>\n",
       "    <tr>\n",
       "      <th>3</th>\n",
       "      <td>(9, 123)</td>\n",
       "      <td>(123)</td>\n",
       "      <td>(9)</td>\n",
       "      <td>0.013626</td>\n",
       "      <td>0.183954</td>\n",
       "      <td>0.052471</td>\n",
       "      <td>0.074074</td>\n",
       "      <td>1.411714</td>\n",
       "      <td>7.655712e-06</td>\n",
       "    </tr>\n",
       "    <tr>\n",
       "      <th>4</th>\n",
       "      <td>(9, 124)</td>\n",
       "      <td>(9)</td>\n",
       "      <td>(124)</td>\n",
       "      <td>0.017389</td>\n",
       "      <td>0.052471</td>\n",
       "      <td>0.109010</td>\n",
       "      <td>0.331395</td>\n",
       "      <td>3.040058</td>\n",
       "      <td>7.774255e-45</td>\n",
       "    </tr>\n",
       "  </tbody>\n",
       "</table>\n",
       "</div>"
      ],
      "text/plain": [
       "    itemset antecedent consequent  support_rule  support_antecedent  \\\n",
       "0  (9, 103)        (9)      (103)      0.019727            0.052471   \n",
       "1  (9, 103)      (103)        (9)      0.019727            0.193512   \n",
       "2  (9, 123)        (9)      (123)      0.013626            0.052471   \n",
       "3  (9, 123)      (123)        (9)      0.013626            0.183954   \n",
       "4  (9, 124)        (9)      (124)      0.017389            0.052471   \n",
       "\n",
       "   support_consequent  confidence      lift        pvalue  \n",
       "0            0.193512    0.375969  1.942869  2.229585e-23  \n",
       "1            0.052471    0.101944  1.942869  2.229585e-23  \n",
       "2            0.183954    0.259690  1.411714  7.615064e-06  \n",
       "3            0.052471    0.074074  1.411714  7.655712e-06  \n",
       "4            0.109010    0.331395  3.040058  7.774255e-45  "
      ]
     },
     "execution_count": 50,
     "metadata": {},
     "output_type": "execute_result"
    }
   ],
   "source": [
    "rules.info()\n",
    "rules.head()"
   ]
  },
  {
   "cell_type": "markdown",
   "metadata": {},
   "source": [
    "# Apriori algorithm"
   ]
  },
  {
   "cell_type": "code",
   "execution_count": 51,
   "metadata": {},
   "outputs": [],
   "source": [
    "import pandas as pd\n",
    "import numpy as np\n",
    "from itertools import combinations\n",
    "from time import time\n",
    "from jupyterthemes import jtplot\n",
    "jtplot.style(theme='onedork', context='talk', fscale=1.8, spines=False, gridlines='--', ticks=True, grid=False, figsize=(12, 8))"
   ]
  },
  {
   "cell_type": "markdown",
   "metadata": {},
   "source": [
    "# Load the data & build the product-transaction matrix"
   ]
  },
  {
   "cell_type": "code",
   "execution_count": 52,
   "metadata": {},
   "outputs": [],
   "source": [
    "def get_transaction_data():\n",
    "    \"\"\"Load groceries transaction data into DataFrame\"\"\"\n",
    "    df = pd.read_csv('groceries.csv')\n",
    "    df = df.stack().reset_index(-1, drop=True)\n",
    "    df.index.names = ['tx_id']\n",
    "    df = pd.get_dummies(df, prefix='', prefix_sep='')\n",
    "    return df.groupby(level='tx_id').sum()"
   ]
  },
  {
   "cell_type": "markdown",
   "metadata": {},
   "source": [
    "# Create itemset candidates"
   ]
  },
  {
   "cell_type": "code",
   "execution_count": 53,
   "metadata": {},
   "outputs": [
    {
     "name": "stdout",
     "output_type": "stream",
     "text": [
      "0    Instant food products\n",
      "1                 UHT-milk\n",
      "2         abrasive cleaner\n",
      "3         artif. sweetener\n",
      "4           baby cosmetics\n",
      "dtype: object\n",
      "(9834, 169)\n"
     ]
    }
   ],
   "source": [
    "data = get_transaction_data()\n",
    "\n",
    "item_id = pd.Series(dict(enumerate(data.columns)))\n",
    "print(item_id.head())\n",
    "transactions = data.values\n",
    "print(transactions.shape)\n",
    "\n",
    "min_support = 0.01\n",
    "item_length = 1\n",
    "candidates = list(zip(item_id.index))\n",
    "candidates_tested = 0\n",
    "itemsets = pd.DataFrame(columns=['support', 'length'])"
   ]
  },
  {
   "cell_type": "code",
   "execution_count": 54,
   "metadata": {},
   "outputs": [
    {
     "data": {
      "text/plain": [
       "[(0,), (1,), (2,), (3,), (4,), (5,), (6,), (7,), (8,), (9,)]"
      ]
     },
     "execution_count": 54,
     "metadata": {},
     "output_type": "execute_result"
    }
   ],
   "source": [
    "candidates[:10]"
   ]
  },
  {
   "cell_type": "markdown",
   "metadata": {},
   "source": [
    "# Candidate Generation"
   ]
  },
  {
   "cell_type": "code",
   "execution_count": 55,
   "metadata": {},
   "outputs": [
    {
     "name": "stdout",
     "output_type": "stream",
     "text": [
      "Length 1:        169 [(0,), (1,), (2,), (3,), (4,)]\n",
      "Length 2:     14,196 [(0, 1), (0, 2), (0, 3), (0, 4), (0, 5)]\n",
      "Length 3:    790,244 [(0, 1, 2), (0, 1, 3), (0, 1, 4), (0, 1, 5), (0, 1, 6)]\n",
      "Length 4: 32,795,126 [(0, 1, 2, 3), (0, 1, 2, 4), (0, 1, 2, 5), (0, 1, 2, 6), (0, 1, 2, 7)]\n"
     ]
    }
   ],
   "source": [
    "for i in range(1, 5):\n",
    "    remaining_items = np.unique([item for t in candidates for item in t])\n",
    "    new_candidates = list(combinations(remaining_items, r=i))\n",
    "    print('Length {}: {:>10,.0f}'.format(i, len(new_candidates)), \n",
    "          new_candidates[:5])"
   ]
  },
  {
   "cell_type": "markdown",
   "metadata": {},
   "source": [
    "# The apriori pruning based on support"
   ]
  },
  {
   "cell_type": "code",
   "execution_count": 56,
   "metadata": {},
   "outputs": [],
   "source": [
    "def prune_candidates(all_txn, candidates, candidate_size, min_support):\n",
    "    \"\"\"Return DataFrame with itemsets of candidate_size with min_support\n",
    "        all_txn: numpy array of transaction-product matrix\n",
    "        candidates: list of tuples containing product id\n",
    "        candidate_size: length of item set\n",
    "        min_support: support threshold\n",
    "        \"\"\"\n",
    "    itemsets = {}\n",
    "    for candidate in candidates:\n",
    "        candidate_txn = all_txn[:, candidate].reshape(-1, candidate_size)  \n",
    "        relevant_txn = candidate_txn[(candidate_txn == 1).all(axis=1)]\n",
    "        candidate_support = relevant_txn.shape[0] / all_txn.shape[0]\n",
    "        if candidate_support >= min_support:\n",
    "            itemsets[frozenset(candidate)] = candidate_support\n",
    "    result = pd.Series(itemsets).to_frame('support')\n",
    "    return result.assign(length=candidate_size) "
   ]
  },
  {
   "cell_type": "markdown",
   "metadata": {},
   "source": [
    "# Running the apriori algorithm\n"
   ]
  },
  {
   "cell_type": "code",
   "execution_count": 57,
   "metadata": {},
   "outputs": [
    {
     "name": "stdout",
     "output_type": "stream",
     "text": [
      "Itemset Length 1\tCandidates:     169\tNew Items:      88\n",
      "Itemset Length 2\tCandidates:   3,828\tNew Items:     213\n",
      "Itemset Length 3\tCandidates:  16,215\tNew Items:      32\n",
      "Itemset Length 4\tCandidates:   3,060\tNew Items:       0\n",
      "\n",
      "Potential Itemsets: 748,288,838,313,422,294,120,286,634,350,736,906,063,837,462,003,712 \n",
      "Tested Itemsets: 23,272\n"
     ]
    }
   ],
   "source": [
    "while candidates:\n",
    "    new_items = prune_candidates(\n",
    "        transactions, candidates, item_length, min_support)\n",
    "    itemsets = itemsets.append(new_items)\n",
    "    candidates_tested += len(candidates)\n",
    "    print('Itemset Length {}\\tCandidates: {:>7,.0f}\\tNew Items: {:>7,.0f}'\n",
    "          .format(item_length, len(candidates), len(new_items)))\n",
    "    item_length += 1\n",
    "    remaining_items = np.unique([item for t in new_items.index for item in t])\n",
    "    candidates = list(combinations(remaining_items, r=item_length))\n",
    "print('\\nPotential Itemsets: {:,.0f} \\nTested Itemsets: {:,.0f}'.format(\n",
    "    2**len(item_id) - 1, candidates_tested))"
   ]
  },
  {
   "cell_type": "code",
   "execution_count": 58,
   "metadata": {},
   "outputs": [
    {
     "name": "stdout",
     "output_type": "stream",
     "text": [
      "<class 'pandas.core.frame.DataFrame'>\n",
      "Index: 333 entries, frozenset({1}) to frozenset({162, 166, 167})\n",
      "Data columns (total 2 columns):\n",
      " #   Column   Non-Null Count  Dtype  \n",
      "---  ------   --------------  -----  \n",
      " 0   support  333 non-null    float64\n",
      " 1   length   333 non-null    object \n",
      "dtypes: float64(1), object(1)\n",
      "memory usage: 7.8+ KB\n"
     ]
    },
    {
     "data": {
      "text/html": [
       "<div>\n",
       "<style scoped>\n",
       "    .dataframe tbody tr th:only-of-type {\n",
       "        vertical-align: middle;\n",
       "    }\n",
       "\n",
       "    .dataframe tbody tr th {\n",
       "        vertical-align: top;\n",
       "    }\n",
       "\n",
       "    .dataframe thead th {\n",
       "        text-align: right;\n",
       "    }\n",
       "</style>\n",
       "<table border=\"1\" class=\"dataframe\">\n",
       "  <thead>\n",
       "    <tr style=\"text-align: right;\">\n",
       "      <th></th>\n",
       "      <th>support</th>\n",
       "      <th>length</th>\n",
       "    </tr>\n",
       "  </thead>\n",
       "  <tbody>\n",
       "    <tr>\n",
       "      <th>(166)</th>\n",
       "      <td>0.255542</td>\n",
       "      <td>1</td>\n",
       "    </tr>\n",
       "    <tr>\n",
       "      <th>(103)</th>\n",
       "      <td>0.193512</td>\n",
       "      <td>1</td>\n",
       "    </tr>\n",
       "    <tr>\n",
       "      <th>(123)</th>\n",
       "      <td>0.183954</td>\n",
       "      <td>1</td>\n",
       "    </tr>\n",
       "    <tr>\n",
       "      <th>(139)</th>\n",
       "      <td>0.174395</td>\n",
       "      <td>1</td>\n",
       "    </tr>\n",
       "    <tr>\n",
       "      <th>(167)</th>\n",
       "      <td>0.139516</td>\n",
       "      <td>1</td>\n",
       "    </tr>\n",
       "  </tbody>\n",
       "</table>\n",
       "</div>"
      ],
      "text/plain": [
       "        support length\n",
       "(166)  0.255542      1\n",
       "(103)  0.193512      1\n",
       "(123)  0.183954      1\n",
       "(139)  0.174395      1\n",
       "(167)  0.139516      1"
      ]
     },
     "execution_count": 58,
     "metadata": {},
     "output_type": "execute_result"
    }
   ],
   "source": [
    "itemsets.info()\n",
    "itemsets.sort_values('support', ascending=False).head()"
   ]
  },
  {
   "cell_type": "code",
   "execution_count": 59,
   "metadata": {},
   "outputs": [
    {
     "data": {
      "text/plain": [
       "1     88\n",
       "2    213\n",
       "3     32\n",
       "Name: length, dtype: int64"
      ]
     },
     "execution_count": 59,
     "metadata": {},
     "output_type": "execute_result"
    }
   ],
   "source": [
    "itemsets.length.value_counts().sort_index()"
   ]
  },
  {
   "cell_type": "code",
   "execution_count": 60,
   "metadata": {},
   "outputs": [
    {
     "data": {
      "text/plain": [
       "count    333.000000\n",
       "mean       0.025071\n",
       "std        0.027325\n",
       "min        0.010067\n",
       "25%        0.011897\n",
       "50%        0.016270\n",
       "75%        0.026032\n",
       "max        0.255542\n",
       "Name: support, dtype: float64"
      ]
     },
     "execution_count": 60,
     "metadata": {},
     "output_type": "execute_result"
    }
   ],
   "source": [
    "itemsets.support.describe()"
   ]
  },
  {
   "cell_type": "markdown",
   "metadata": {},
   "source": [
    "https://pyshark.com/market-basket-analysis-using-association-rule-mining-in-python/?utm_campaign=News&utm_medium=Community&utm_source=DataCamp.com\n",
    "https://www.packtpub.com/"
   ]
  },
  {
   "cell_type": "code",
   "execution_count": null,
   "metadata": {},
   "outputs": [],
   "source": []
  }
 ],
 "metadata": {
  "kernelspec": {
   "display_name": "Python 3",
   "language": "python",
   "name": "python3"
  },
  "language_info": {
   "codemirror_mode": {
    "name": "ipython",
    "version": 3
   },
   "file_extension": ".py",
   "mimetype": "text/x-python",
   "name": "python",
   "nbconvert_exporter": "python",
   "pygments_lexer": "ipython3",
   "version": "3.7.6"
  }
 },
 "nbformat": 4,
 "nbformat_minor": 4
}
