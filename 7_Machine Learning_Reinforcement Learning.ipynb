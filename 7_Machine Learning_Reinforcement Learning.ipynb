{
 "cells": [
  {
   "cell_type": "markdown",
   "metadata": {},
   "source": [
    "# Reinforcement Learning"
   ]
  },
  {
   "cell_type": "code",
   "execution_count": 1,
   "metadata": {},
   "outputs": [],
   "source": [
    "import numpy as np\n",
    "import random\n",
    "import matplotlib.pyplot as plt\n",
    "%matplotlib inline\n",
    "np.random.seed(5)"
   ]
  },
  {
   "cell_type": "code",
   "execution_count": 12,
   "metadata": {},
   "outputs": [],
   "source": [
    "n = 10\n",
    "arms = np.random.rand(n)\n",
    "eps = 0.4 #probability of exploration action"
   ]
  },
  {
   "cell_type": "code",
   "execution_count": 20,
   "metadata": {},
   "outputs": [
    {
     "data": {
      "text/plain": [
       "array([0.26218219, 0.71778871, 0.43789494, 0.09512513, 0.2830562 ,\n",
       "       0.74816834, 0.3574959 , 0.72468137, 0.5591676 , 0.98860721])"
      ]
     },
     "execution_count": 20,
     "metadata": {},
     "output_type": "execute_result"
    }
   ],
   "source": [
    "arms"
   ]
  },
  {
   "cell_type": "markdown",
   "metadata": {},
   "source": [
    "#### We solving the 10-armed bandit problem, hence n = 10. arms is a numpy array of length n filled with random floats that can be understood as probabilities of action of that arm."
   ]
  },
  {
   "cell_type": "code",
   "execution_count": 13,
   "metadata": {},
   "outputs": [],
   "source": [
    "def reward(prob):\n",
    "    reward = 0\n",
    "    for i in range(10):\n",
    "        if random.random() < prob:\n",
    "            reward += 1\n",
    "    return reward"
   ]
  },
  {
   "cell_type": "code",
   "execution_count": 21,
   "metadata": {},
   "outputs": [
    {
     "data": {
      "text/plain": [
       "0.8152086505771161"
      ]
     },
     "execution_count": 21,
     "metadata": {},
     "output_type": "execute_result"
    }
   ],
   "source": [
    "random.random()"
   ]
  },
  {
   "cell_type": "code",
   "execution_count": 14,
   "metadata": {},
   "outputs": [],
   "source": [
    "#initialize memory array; has 1 row defaulted to random action index\n",
    "av = np.array([np.random.randint(0,(n+1)), 0]).reshape(1,2) #av = action-value"
   ]
  },
  {
   "cell_type": "code",
   "execution_count": 22,
   "metadata": {},
   "outputs": [
    {
     "data": {
      "text/plain": [
       "array([[ 1,  0],\n",
       "       [ 1,  6],\n",
       "       [ 1,  6],\n",
       "       ...,\n",
       "       [ 2,  5],\n",
       "       [ 2,  6],\n",
       "       [ 9, 10]])"
      ]
     },
     "execution_count": 22,
     "metadata": {},
     "output_type": "execute_result"
    }
   ],
   "source": [
    "av"
   ]
  },
  {
   "cell_type": "code",
   "execution_count": 15,
   "metadata": {},
   "outputs": [],
   "source": [
    "#greedy method to select best arm based on memory array\n",
    "def bestArm(a):\n",
    "    bestArm = 0 #default to 0\n",
    "    bestMean = 0\n",
    "    for u in a:\n",
    "        avg = np.mean(a[np.where(a[:,0] == u[0])][:, 1]) #calculate mean reward for each action\n",
    "        if bestMean < avg:\n",
    "            bestMean = avg\n",
    "            bestArm = u[0]\n",
    "    return bestArm"
   ]
  },
  {
   "cell_type": "code",
   "execution_count": 16,
   "metadata": {},
   "outputs": [
    {
     "data": {
      "image/png": "[encoded data removed]",
      "text/plain": [
       "<Figure size 432x288 with 1 Axes>"
      ]
     },
     "metadata": {
      "needs_background": "light"
     },
     "output_type": "display_data"
    }
   ],
   "source": [
    "plt.xlabel(\"Number of times played\")\n",
    "plt.ylabel(\"Average Reward\")\n",
    "for i in range(500):\n",
    "    if random.random() > eps: #greedy exploitation action\n",
    "        choice = bestArm(av)\n",
    "        thisAV = np.array([[choice, reward(arms[choice])]])\n",
    "        av = np.concatenate((av, thisAV), axis=0)\n",
    "    else: #exploration action\n",
    "        choice = np.where(arms == np.random.choice(arms))[0][0]\n",
    "        thisAV = np.array([[choice, reward(arms[choice])]]) #choice, reward\n",
    "        av = np.concatenate((av, thisAV), axis=0) #add to our action-value memory array\n",
    "    #calculate the mean reward\n",
    "    runningMean = np.mean(av[:,1])\n",
    "    plt.scatter(i, runningMean)"
   ]
  },
  {
   "cell_type": "code",
   "execution_count": 19,
   "metadata": {},
   "outputs": [
    {
     "data": {
      "text/plain": [
       "9"
      ]
     },
     "execution_count": 19,
     "metadata": {},
     "output_type": "execute_result"
    }
   ],
   "source": [
    " choice"
   ]
  },
  {
   "cell_type": "markdown",
   "metadata": {},
   "source": [
    "### It is clear that the agent learns to choose the arm which gives it the maximum average reward after several iterations of gameplay. Thus, we have implemented a straightforward reinforcement learning algorithm to solve the Multi-Arm Bandit problem.\n",
    "### In this exercise, we are going to demonstrate how to implement a basic Reinforcement Learning algorithm which is called the Q-Learning technique. In this demonstration, we attempt to teach a bot to reach its destination using the Q-Learning technique.\n"
   ]
  },
  {
   "cell_type": "code",
   "execution_count": 78,
   "metadata": {},
   "outputs": [
    {
     "name": "stdout",
     "output_type": "stream",
     "text": [
      "Requirement already satisfied: networkx in /Users/Giuliano/opt/anaconda3/lib/python3.7/site-packages (2.4)\r\n",
      "Requirement already satisfied: decorator>=4.3.0 in /Users/Giuliano/opt/anaconda3/lib/python3.7/site-packages (from networkx) (4.4.1)\r\n"
     ]
    }
   ],
   "source": [
    "!pip install networkx\n",
    "\n",
    "import numpy as np \n",
    "import pylab as pl \n",
    "import networkx as nx "
   ]
  },
  {
   "cell_type": "code",
   "execution_count": 79,
   "metadata": {},
   "outputs": [
    {
     "data": {
      "image/png": "[encoded data removed]",
      "text/plain": [
       "<Figure size 432x288 with 1 Axes>"
      ]
     },
     "metadata": {},
     "output_type": "display_data"
    }
   ],
   "source": [
    "edges = [(0, 1), (1, 5), (5, 6), (5, 4), (1, 2),  \n",
    "         (1, 3), (9, 10), (2, 4), (0, 6), (6, 7), \n",
    "         (8, 9), (7, 8), (1, 7), (3, 9)] \n",
    "  \n",
    "goal = 10\n",
    "G = nx.Graph() \n",
    "G.add_edges_from(edges) \n",
    "pos = nx.spring_layout(G) \n",
    "nx.draw_networkx_nodes(G, pos) \n",
    "nx.draw_networkx_edges(G, pos) \n",
    "nx.draw_networkx_labels(G, pos) \n",
    "pl.show() "
   ]
  },
  {
   "cell_type": "markdown",
   "metadata": {},
   "source": [
    "### Defining the reward the system for the bot"
   ]
  },
  {
   "cell_type": "code",
   "execution_count": 9,
   "metadata": {},
   "outputs": [
    {
     "name": "stdout",
     "output_type": "stream",
     "text": [
      "(0, 1)\n",
      "(1, 5)\n",
      "(5, 6)\n",
      "(5, 4)\n",
      "(1, 2)\n",
      "(1, 3)\n",
      "(9, 10)\n",
      "(2, 4)\n",
      "(0, 6)\n",
      "(6, 7)\n",
      "(8, 9)\n",
      "(7, 8)\n",
      "(1, 7)\n",
      "(3, 9)\n",
      "[[ -1.   0.  -1.  -1.  -1.  -1.   0.  -1.  -1.  -1.  -1.]\n",
      " [  0.  -1.   0.   0.  -1.   0.  -1.   0.  -1.  -1.  -1.]\n",
      " [ -1.   0.  -1.  -1.   0.  -1.  -1.  -1.  -1.  -1.  -1.]\n",
      " [ -1.   0.  -1.  -1.  -1.  -1.  -1.  -1.  -1.   0.  -1.]\n",
      " [ -1.  -1.   0.  -1.  -1.   0.  -1.  -1.  -1.  -1.  -1.]\n",
      " [ -1.   0.  -1.  -1.   0.  -1.   0.  -1.  -1.  -1.  -1.]\n",
      " [  0.  -1.  -1.  -1.  -1.   0.  -1.   0.  -1.  -1.  -1.]\n",
      " [ -1.   0.  -1.  -1.  -1.  -1.   0.  -1.   0.  -1.  -1.]\n",
      " [ -1.  -1.  -1.  -1.  -1.  -1.  -1.   0.  -1.   0.  -1.]\n",
      " [ -1.  -1.  -1.   0.  -1.  -1.  -1.  -1.   0.  -1. 100.]\n",
      " [ -1.  -1.  -1.  -1.  -1.  -1.  -1.  -1.  -1.   0. 100.]]\n"
     ]
    }
   ],
   "source": [
    "MATRIX_SIZE = 11\n",
    "M = np.matrix(np.ones(shape =(MATRIX_SIZE, MATRIX_SIZE))) \n",
    "M *= -1\n",
    "  \n",
    "for point in edges: \n",
    "    print(point) \n",
    "    if point[1] == goal: \n",
    "        M[point] = 100\n",
    "    else: \n",
    "        M[point] = 0\n",
    "  \n",
    "    if point[0] == goal: \n",
    "        M[point[::-1]] = 100\n",
    "    else: \n",
    "        M[point[::-1]]= 0\n",
    "        # reverse of point \n",
    "  \n",
    "M[goal, goal]= 100\n",
    "print(M) \n",
    "# add goal point round trip "
   ]
  },
  {
   "cell_type": "markdown",
   "metadata": {},
   "source": [
    "### Defining some utility functions to be used in the training"
   ]
  },
  {
   "cell_type": "code",
   "execution_count": 10,
   "metadata": {},
   "outputs": [
    {
     "data": {
      "text/plain": [
       "0"
      ]
     },
     "execution_count": 10,
     "metadata": {},
     "output_type": "execute_result"
    }
   ],
   "source": [
    "Q = np.matrix(np.zeros([MATRIX_SIZE, MATRIX_SIZE])) \n",
    "  \n",
    "gamma = 0.75\n",
    "# learning parameter \n",
    "initial_state = 1\n",
    "  \n",
    "# Determines the available actions for a given state \n",
    "def available_actions(state): \n",
    "    current_state_row = M[state, ] \n",
    "    available_action = np.where(current_state_row >= 0)[1] \n",
    "    return available_action \n",
    "  \n",
    "available_action = available_actions(initial_state) \n",
    "  \n",
    "# Chooses one of the available actions at random \n",
    "def sample_next_action(available_actions_range): \n",
    "    next_action = int(np.random.choice(available_action, 1)) \n",
    "    return next_action \n",
    "  \n",
    "  \n",
    "action = sample_next_action(available_action) \n",
    "  \n",
    "def update(current_state, action, gamma): \n",
    "  \n",
    "  max_index = np.where(Q[action, ] == np.max(Q[action, ]))[1] \n",
    "  if max_index.shape[0] > 1: \n",
    "      max_index = int(np.random.choice(max_index, size = 1)) \n",
    "  else: \n",
    "      max_index = int(max_index) \n",
    "  max_value = Q[action, max_index] \n",
    "  Q[current_state, action] = M[current_state, action] + gamma * max_value \n",
    "  if (np.max(Q) > 0): \n",
    "    return(np.sum(Q / np.max(Q)*100)) \n",
    "  else: \n",
    "    return (0) \n",
    "# Updates the Q-Matrix according to the path chosen \n",
    "  \n",
    "update(initial_state, action, gamma)"
   ]
  },
  {
   "cell_type": "markdown",
   "metadata": {},
   "source": [
    "### Training and evaluating the bot using the Q-Matrix"
   ]
  },
  {
   "cell_type": "code",
   "execution_count": 11,
   "metadata": {},
   "outputs": [
    {
     "name": "stdout",
     "output_type": "stream",
     "text": [
      "Most efficient path:\n",
      "[0, 1, 3, 9, 10]\n"
     ]
    },
    {
     "data": {
      "image/png": "[encoded data removed]",
      "text/plain": [
       "<Figure size 432x288 with 1 Axes>"
      ]
     },
     "metadata": {
      "needs_background": "light"
     },
     "output_type": "display_data"
    }
   ],
   "source": [
    "scores = [] \n",
    "for i in range(1000): \n",
    "    current_state = np.random.randint(0, int(Q.shape[0])) \n",
    "    available_action = available_actions(current_state) \n",
    "    action = sample_next_action(available_action) \n",
    "    score = update(current_state, action, gamma) \n",
    "    scores.append(score) \n",
    "  \n",
    "# print(\"Trained Q matrix:\") \n",
    "# print(Q / np.max(Q)*100) \n",
    "# You can uncomment the above two lines to view the trained Q matrix \n",
    "  \n",
    "# Testing \n",
    "current_state = 0\n",
    "steps = [current_state] \n",
    "  \n",
    "while current_state != 10: \n",
    "  \n",
    "    next_step_index = np.where(Q[current_state, ] == np.max(Q[current_state, ]))[1] \n",
    "    if next_step_index.shape[0] > 1: \n",
    "        next_step_index = int(np.random.choice(next_step_index, size = 1)) \n",
    "    else: \n",
    "        next_step_index = int(next_step_index) \n",
    "    steps.append(next_step_index) \n",
    "    current_state = next_step_index \n",
    "  \n",
    "print(\"Most efficient path:\") \n",
    "print(steps) \n",
    "  \n",
    "pl.plot(scores) \n",
    "pl.xlabel('No of iterations') \n",
    "pl.ylabel('Reward gained') \n",
    "pl.show()"
   ]
  },
  {
   "cell_type": "markdown",
   "metadata": {},
   "source": [
    "Reference: \n",
    "\n",
    "https://www.datacamp.com/community/tutorials/introduction-reinforcement-learning\n",
    "\n",
    "\n",
    "https://www.geeksforgeeks.org/ml-reinforcement-learning-algorithm-python-implementation-using-q-learning/"
   ]
  },
  {
   "cell_type": "code",
   "execution_count": null,
   "metadata": {},
   "outputs": [],
   "source": []
  },
  {
   "cell_type": "markdown",
   "metadata": {},
   "source": [
    "## Part 2"
   ]
  },
  {
   "cell_type": "code",
   "execution_count": 18,
   "metadata": {},
   "outputs": [
    {
     "name": "stdout",
     "output_type": "stream",
     "text": [
      "Collecting gym\n",
      "  Downloading gym-0.17.3.tar.gz (1.6 MB)\n",
      "\u001b[K     |████████████████████████████████| 1.6 MB 5.5 MB/s eta 0:00:01\n",
      "\u001b[?25hRequirement already satisfied: scipy in /Users/Giuliano/opt/anaconda3/lib/python3.7/site-packages (from gym) (1.4.1)\n",
      "Requirement already satisfied: numpy>=1.10.4 in /Users/Giuliano/opt/anaconda3/lib/python3.7/site-packages (from gym) (1.18.1)\n",
      "Collecting pyglet<=1.5.0,>=1.4.0\n",
      "  Downloading pyglet-1.5.0-py2.py3-none-any.whl (1.0 MB)\n",
      "\u001b[K     |████████████████████████████████| 1.0 MB 3.8 MB/s eta 0:00:01\n",
      "\u001b[?25hRequirement already satisfied: cloudpickle<1.7.0,>=1.2.0 in /Users/Giuliano/opt/anaconda3/lib/python3.7/site-packages (from gym) (1.3.0)\n",
      "Requirement already satisfied: future in /Users/Giuliano/opt/anaconda3/lib/python3.7/site-packages (from pyglet<=1.5.0,>=1.4.0->gym) (0.18.2)\n",
      "Building wheels for collected packages: gym\n",
      "  Building wheel for gym (setup.py) ... \u001b[?25ldone\n",
      "\u001b[?25h  Created wheel for gym: filename=gym-0.17.3-py3-none-any.whl size=1654654 sha256=6aef1eaaf2c6e96a95eac0e6135b7a7c8650f761a5c127443fba970d0978c1d5\n",
      "  Stored in directory: /Users/Giuliano/Library/Caches/pip/wheels/d1/81/4b/dd9c029691022cb957398d1f015e66b75e37637dda61abdf58\n",
      "Successfully built gym\n",
      "Installing collected packages: pyglet, gym\n",
      "Successfully installed gym-0.17.3 pyglet-1.5.0\n"
     ]
    }
   ],
   "source": [
    "!pip install gym"
   ]
  },
  {
   "cell_type": "markdown",
   "metadata": {},
   "source": [
    "## Cart Pole Balancing with Random Policy\n",
    "\n",
    "Let's create an agent with the random policy, that is, we create the agent that selects the random action in the environment and tries to balance the pole. The agent receives +1 reward every time the pole stands straight up on the cart. We will generate over 100 episodes and we will see the return (sum of rewards) obtained over each episode. Let's learn this step by step.\n",
    "\n",
    "First, create our cart pole environment:\n",
    "\n",
    "!pip install tensorflow !pip install gym !pip install roboschool"
   ]
  },
  {
   "cell_type": "code",
   "execution_count": 50,
   "metadata": {},
   "outputs": [
    {
     "name": "stdout",
     "output_type": "stream",
     "text": [
      "Collecting tensorflow\n",
      "  Downloading tensorflow-2.3.1-cp37-cp37m-macosx_10_9_x86_64.whl (165.1 MB)\n",
      "\u001b[K     |████████████████████████████████| 165.1 MB 2.6 kB/s eta 0:00:013    |██████████████▉                 | 76.6 MB 4.1 MB/s eta 0:00:22     |███████████████████▎            | 99.4 MB 9.3 MB/s eta 0:00:08     |████████████████████████████▍   | 146.6 MB 8.1 MB/s eta 0:00:03     |██████████████████████████████▎ | 156.1 MB 6.4 MB/s eta 0:00:02\n",
      "\u001b[?25hCollecting opt-einsum>=2.3.2\n",
      "  Downloading opt_einsum-3.3.0-py3-none-any.whl (65 kB)\n",
      "\u001b[K     |████████████████████████████████| 65 kB 4.1 MB/s eta 0:00:01\n",
      "\u001b[?25hCollecting keras-preprocessing<1.2,>=1.1.1\n",
      "  Downloading Keras_Preprocessing-1.1.2-py2.py3-none-any.whl (42 kB)\n",
      "\u001b[K     |████████████████████████████████| 42 kB 1.9 MB/s eta 0:00:011\n",
      "\u001b[?25hRequirement already satisfied: wheel>=0.26 in /Users/Giuliano/opt/anaconda3/lib/python3.7/site-packages (from tensorflow) (0.34.2)\n",
      "Collecting astunparse==1.6.3\n",
      "  Downloading astunparse-1.6.3-py2.py3-none-any.whl (12 kB)\n",
      "Collecting termcolor>=1.1.0\n",
      "  Downloading termcolor-1.1.0.tar.gz (3.9 kB)\n",
      "Collecting absl-py>=0.7.0\n",
      "  Downloading absl_py-0.11.0-py3-none-any.whl (127 kB)\n",
      "\u001b[K     |████████████████████████████████| 127 kB 2.6 MB/s eta 0:00:01\n",
      "\u001b[?25hCollecting tensorboard<3,>=2.3.0\n",
      "  Downloading tensorboard-2.4.0-py3-none-any.whl (10.6 MB)\n",
      "\u001b[K     |████████████████████████████████| 10.6 MB 11.0 MB/s eta 0:00:01\n",
      "\u001b[?25hRequirement already satisfied: numpy<1.19.0,>=1.16.0 in /Users/Giuliano/opt/anaconda3/lib/python3.7/site-packages (from tensorflow) (1.18.1)\n",
      "Requirement already satisfied: h5py<2.11.0,>=2.10.0 in /Users/Giuliano/opt/anaconda3/lib/python3.7/site-packages (from tensorflow) (2.10.0)\n",
      "Requirement already satisfied: six>=1.12.0 in /Users/Giuliano/opt/anaconda3/lib/python3.7/site-packages (from tensorflow) (1.14.0)\n",
      "Collecting tensorflow-estimator<2.4.0,>=2.3.0\n",
      "  Downloading tensorflow_estimator-2.3.0-py2.py3-none-any.whl (459 kB)\n",
      "\u001b[K     |████████████████████████████████| 459 kB 8.6 MB/s eta 0:00:01\n",
      "\u001b[?25hCollecting gast==0.3.3\n",
      "  Downloading gast-0.3.3-py2.py3-none-any.whl (9.7 kB)\n",
      "Collecting grpcio>=1.8.6\n",
      "  Downloading grpcio-1.34.0-cp37-cp37m-macosx_10_10_x86_64.whl (3.6 MB)\n",
      "\u001b[K     |████████████████████████████████| 3.6 MB 5.4 MB/s eta 0:00:01\n",
      "\u001b[?25hRequirement already satisfied: wrapt>=1.11.1 in /Users/Giuliano/opt/anaconda3/lib/python3.7/site-packages (from tensorflow) (1.11.2)\n",
      "Collecting protobuf>=3.9.2\n",
      "  Downloading protobuf-3.14.0-cp37-cp37m-macosx_10_9_x86_64.whl (1.0 MB)\n",
      "\u001b[K     |████████████████████████████████| 1.0 MB 5.0 MB/s eta 0:00:01\n",
      "\u001b[?25hCollecting google-pasta>=0.1.8\n",
      "  Downloading google_pasta-0.2.0-py3-none-any.whl (57 kB)\n",
      "\u001b[K     |████████████████████████████████| 57 kB 4.8 MB/s  eta 0:00:01\n",
      "\u001b[?25hCollecting tensorboard-plugin-wit>=1.6.0\n",
      "  Downloading tensorboard_plugin_wit-1.7.0-py3-none-any.whl (779 kB)\n",
      "\u001b[K     |████████████████████████████████| 779 kB 4.2 MB/s eta 0:00:01\n",
      "\u001b[?25hCollecting google-auth<2,>=1.6.3\n",
      "  Downloading google_auth-1.23.0-py2.py3-none-any.whl (114 kB)\n",
      "\u001b[K     |████████████████████████████████| 114 kB 6.4 MB/s eta 0:00:01\n",
      "\u001b[?25hCollecting google-auth-oauthlib<0.5,>=0.4.1\n",
      "  Downloading google_auth_oauthlib-0.4.2-py2.py3-none-any.whl (18 kB)\n",
      "Requirement already satisfied: setuptools>=41.0.0 in /Users/Giuliano/opt/anaconda3/lib/python3.7/site-packages (from tensorboard<3,>=2.3.0->tensorflow) (46.0.0.post20200309)\n",
      "Requirement already satisfied: werkzeug>=0.11.15 in /Users/Giuliano/opt/anaconda3/lib/python3.7/site-packages (from tensorboard<3,>=2.3.0->tensorflow) (1.0.0)\n",
      "Requirement already satisfied: requests<3,>=2.21.0 in /Users/Giuliano/opt/anaconda3/lib/python3.7/site-packages (from tensorboard<3,>=2.3.0->tensorflow) (2.22.0)\n",
      "Collecting markdown>=2.6.8\n",
      "  Downloading Markdown-3.3.3-py3-none-any.whl (96 kB)\n",
      "\u001b[K     |████████████████████████████████| 96 kB 5.0 MB/s eta 0:00:01\n",
      "\u001b[?25hCollecting pyasn1-modules>=0.2.1\n",
      "  Downloading pyasn1_modules-0.2.8-py2.py3-none-any.whl (155 kB)\n",
      "\u001b[K     |████████████████████████████████| 155 kB 8.9 MB/s eta 0:00:01\n",
      "\u001b[?25hCollecting cachetools<5.0,>=2.0.0\n",
      "  Downloading cachetools-4.1.1-py3-none-any.whl (10 kB)\n",
      "Collecting rsa<5,>=3.1.4; python_version >= \"3.5\"\n",
      "  Downloading rsa-4.6-py3-none-any.whl (47 kB)\n",
      "\u001b[K     |████████████████████████████████| 47 kB 4.2 MB/s eta 0:00:01\n",
      "\u001b[?25hRequirement already satisfied: requests-oauthlib>=0.7.0 in /Users/Giuliano/opt/anaconda3/lib/python3.7/site-packages (from google-auth-oauthlib<0.5,>=0.4.1->tensorboard<3,>=2.3.0->tensorflow) (1.3.0)\n",
      "Requirement already satisfied: urllib3!=1.25.0,!=1.25.1,<1.26,>=1.21.1 in /Users/Giuliano/opt/anaconda3/lib/python3.7/site-packages (from requests<3,>=2.21.0->tensorboard<3,>=2.3.0->tensorflow) (1.25.8)\n",
      "Requirement already satisfied: idna<2.9,>=2.5 in /Users/Giuliano/opt/anaconda3/lib/python3.7/site-packages (from requests<3,>=2.21.0->tensorboard<3,>=2.3.0->tensorflow) (2.8)\n",
      "Requirement already satisfied: certifi>=2017.4.17 in /Users/Giuliano/opt/anaconda3/lib/python3.7/site-packages (from requests<3,>=2.21.0->tensorboard<3,>=2.3.0->tensorflow) (2019.11.28)\n",
      "Requirement already satisfied: chardet<3.1.0,>=3.0.2 in /Users/Giuliano/opt/anaconda3/lib/python3.7/site-packages (from requests<3,>=2.21.0->tensorboard<3,>=2.3.0->tensorflow) (3.0.4)\n",
      "Requirement already satisfied: importlib-metadata; python_version < \"3.8\" in /Users/Giuliano/opt/anaconda3/lib/python3.7/site-packages (from markdown>=2.6.8->tensorboard<3,>=2.3.0->tensorflow) (1.5.0)\n",
      "Collecting pyasn1<0.5.0,>=0.4.6\n",
      "  Downloading pyasn1-0.4.8-py2.py3-none-any.whl (77 kB)\n",
      "\u001b[K     |████████████████████████████████| 77 kB 2.9 MB/s eta 0:00:011\n",
      "\u001b[?25hRequirement already satisfied: oauthlib>=3.0.0 in /Users/Giuliano/opt/anaconda3/lib/python3.7/site-packages (from requests-oauthlib>=0.7.0->google-auth-oauthlib<0.5,>=0.4.1->tensorboard<3,>=2.3.0->tensorflow) (3.1.0)\n",
      "Requirement already satisfied: zipp>=0.5 in /Users/Giuliano/opt/anaconda3/lib/python3.7/site-packages (from importlib-metadata; python_version < \"3.8\"->markdown>=2.6.8->tensorboard<3,>=2.3.0->tensorflow) (2.2.0)\n",
      "Building wheels for collected packages: termcolor\n",
      "  Building wheel for termcolor (setup.py) ... \u001b[?25ldone\n",
      "\u001b[?25h  Created wheel for termcolor: filename=termcolor-1.1.0-py3-none-any.whl size=4830 sha256=b1fd57cea72e70716c63561d82d1fc7dd7502c446d761a5e1558e03ced496d85\n",
      "  Stored in directory: /Users/Giuliano/Library/Caches/pip/wheels/3f/e3/ec/8a8336ff196023622fbcb36de0c5a5c218cbb24111d1d4c7f2\n",
      "Successfully built termcolor\n",
      "Installing collected packages: opt-einsum, keras-preprocessing, astunparse, termcolor, absl-py, grpcio, tensorboard-plugin-wit, pyasn1, pyasn1-modules, cachetools, rsa, google-auth, google-auth-oauthlib, protobuf, markdown, tensorboard, tensorflow-estimator, gast, google-pasta, tensorflow\n",
      "Successfully installed absl-py-0.11.0 astunparse-1.6.3 cachetools-4.1.1 gast-0.3.3 google-auth-1.23.0 google-auth-oauthlib-0.4.2 google-pasta-0.2.0 grpcio-1.34.0 keras-preprocessing-1.1.2 markdown-3.3.3 opt-einsum-3.3.0 protobuf-3.14.0 pyasn1-0.4.8 pyasn1-modules-0.2.8 rsa-4.6 tensorboard-2.4.0 tensorboard-plugin-wit-1.7.0 tensorflow-2.3.1 tensorflow-estimator-2.3.0 termcolor-1.1.0\n"
     ]
    }
   ],
   "source": [
    "!pip install tensorflow"
   ]
  },
  {
   "cell_type": "markdown",
   "metadata": {},
   "source": [
    "### RL cycle"
   ]
  },
  {
   "cell_type": "code",
   "execution_count": 51,
   "metadata": {},
   "outputs": [],
   "source": [
    "import gym\n",
    "env = gym.make('CartPole-v0')"
   ]
  },
  {
   "cell_type": "code",
   "execution_count": 52,
   "metadata": {},
   "outputs": [],
   "source": [
    "num_episodes = 100\n",
    "num_timesteps = 50"
   ]
  },
  {
   "cell_type": "code",
   "execution_count": 53,
   "metadata": {},
   "outputs": [
    {
     "name": "stdout",
     "output_type": "stream",
     "text": [
      "Episode: 0, Return: 22.0\n",
      "Episode: 10, Return: 10.0\n",
      "Episode: 20, Return: 16.0\n",
      "Episode: 30, Return: 15.0\n",
      "Episode: 40, Return: 16.0\n",
      "Episode: 50, Return: 28.0\n",
      "Episode: 60, Return: 31.0\n",
      "Episode: 70, Return: 18.0\n",
      "Episode: 80, Return: 13.0\n",
      "Episode: 90, Return: 12.0\n"
     ]
    }
   ],
   "source": [
    "#for each episode\n",
    "for i in range(num_episodes):\n",
    "    \n",
    "    #set the Return to 0\n",
    "    Return = 0\n",
    "    #initialize the state by resetting the environment\n",
    "    state = env.reset()\n",
    "    \n",
    "    #for each step in the episode\n",
    "    for t in range(num_timesteps):\n",
    "        #render the environment\n",
    "        env.render()\n",
    "        \n",
    "        #randomly select an action by sampling from the environment\n",
    "        random_action = env.action_space.sample()\n",
    "        \n",
    "        #perform the randomly selected action\n",
    "        next_state, reward, done, info = env.step(random_action)\n",
    "\n",
    "        #update the return\n",
    "        Return = Return + reward\n",
    "\n",
    "        #if the next state is a terminal state then end the episode\n",
    "        if done:\n",
    "            break\n",
    "    #for every 10 episodes, print the return (sum of rewards)\n",
    "    if i%10==0:\n",
    "        print('Episode: {}, Return: {}'.format(i, Return))"
   ]
  },
  {
   "cell_type": "code",
   "execution_count": 54,
   "metadata": {},
   "outputs": [],
   "source": [
    "env.close()"
   ]
  },
  {
   "cell_type": "code",
   "execution_count": 55,
   "metadata": {},
   "outputs": [
    {
     "name": "stdout",
     "output_type": "stream",
     "text": [
      "Box(-3.4028234663852886e+38, 3.4028234663852886e+38, (4,), float32)\n"
     ]
    }
   ],
   "source": [
    "import gym\n",
    "\n",
    "env = gym.make('CartPole-v1')\n",
    "print(env.observation_space)"
   ]
  },
  {
   "cell_type": "code",
   "execution_count": 56,
   "metadata": {},
   "outputs": [
    {
     "name": "stdout",
     "output_type": "stream",
     "text": [
      "Discrete(2)\n"
     ]
    }
   ],
   "source": [
    "print(env.action_space)"
   ]
  },
  {
   "cell_type": "code",
   "execution_count": 57,
   "metadata": {},
   "outputs": [
    {
     "name": "stdout",
     "output_type": "stream",
     "text": [
      "1\n",
      "0\n",
      "0\n"
     ]
    }
   ],
   "source": [
    "print(env.action_space.sample())\n",
    "print(env.action_space.sample())\n",
    "print(env.action_space.sample())"
   ]
  },
  {
   "cell_type": "code",
   "execution_count": 58,
   "metadata": {},
   "outputs": [
    {
     "name": "stdout",
     "output_type": "stream",
     "text": [
      "[-4.8000002e+00 -3.4028235e+38 -4.1887903e-01 -3.4028235e+38]\n"
     ]
    }
   ],
   "source": [
    "print(env.observation_space.low)"
   ]
  },
  {
   "cell_type": "code",
   "execution_count": 59,
   "metadata": {},
   "outputs": [
    {
     "name": "stdout",
     "output_type": "stream",
     "text": [
      "[4.8000002e+00 3.4028235e+38 4.1887903e-01 3.4028235e+38]\n"
     ]
    }
   ],
   "source": [
    "print(env.observation_space.high)"
   ]
  },
  {
   "cell_type": "markdown",
   "metadata": {},
   "source": [
    "### TensorFlow"
   ]
  },
  {
   "cell_type": "code",
   "execution_count": 60,
   "metadata": {},
   "outputs": [
    {
     "name": "stdout",
     "output_type": "stream",
     "text": [
      "Tensor(\"Add:0\", shape=(), dtype=int32)\n",
      "7\n"
     ]
    }
   ],
   "source": [
    "import tensorflow as tf\n",
    "with tf.compat.v1.Session() as sess:\n",
    "# create two constants: a and b\n",
    "  a = tf.constant(4)\n",
    "  b = tf.constant(3)\n",
    "\n",
    "# perform a computation\n",
    "  c = tf.add(a, b)\n",
    "  print(c) # print the shape of c\n",
    "\n",
    "# run the session. It compute the sum\n",
    "  res = sess.run(c)\n",
    "  print(res) # print the actual result"
   ]
  },
  {
   "cell_type": "code",
   "execution_count": 61,
   "metadata": {},
   "outputs": [],
   "source": [
    "# reset the graph\n",
    "from tensorflow.python.framework import ops\n",
    "ops.reset_default_graph()"
   ]
  },
  {
   "cell_type": "markdown",
   "metadata": {},
   "source": [
    "### Tensor"
   ]
  },
  {
   "cell_type": "code",
   "execution_count": 62,
   "metadata": {},
   "outputs": [
    {
     "name": "stdout",
     "output_type": "stream",
     "text": [
      "()\n"
     ]
    }
   ],
   "source": [
    "a = tf.constant(1)\n",
    "print(a.shape)"
   ]
  },
  {
   "cell_type": "code",
   "execution_count": 63,
   "metadata": {},
   "outputs": [
    {
     "name": "stdout",
     "output_type": "stream",
     "text": [
      "(5,)\n"
     ]
    }
   ],
   "source": [
    "# array of five elements\n",
    "b = tf.constant([1,2,3,4,5])\n",
    "print(b.shape)"
   ]
  },
  {
   "cell_type": "code",
   "execution_count": 64,
   "metadata": {},
   "outputs": [
    {
     "name": "stdout",
     "output_type": "stream",
     "text": [
      "[1 2 3]\n"
     ]
    }
   ],
   "source": [
    "#NB: a can be of any type of tensor\n",
    "with tf.compat.v1.Session() as sess:\n",
    " a = tf.constant([1,2,3,4,5])\n",
    " first_three_elem = a[:3]\n",
    " fourth_elem = a[3]\n",
    " print(sess.run(first_three_elem))"
   ]
  },
  {
   "cell_type": "code",
   "execution_count": 65,
   "metadata": {},
   "outputs": [
    {
     "name": "stdout",
     "output_type": "stream",
     "text": [
      "4\n"
     ]
    }
   ],
   "source": [
    "with tf.compat.v1.Session() as sess:\n",
    " print(sess.run(fourth_elem))"
   ]
  },
  {
   "cell_type": "markdown",
   "metadata": {},
   "source": [
    "### Constant"
   ]
  },
  {
   "cell_type": "code",
   "execution_count": 66,
   "metadata": {},
   "outputs": [
    {
     "name": "stdout",
     "output_type": "stream",
     "text": [
      "tf.Tensor([1.  1.1 2.1 3.1], shape=(4,), dtype=float32)\n"
     ]
    }
   ],
   "source": [
    "a = tf.constant([1.0, 1.1, 2.1, 3.1], dtype=tf.float32, name='a_const')\n",
    "print(a)"
   ]
  },
  {
   "cell_type": "markdown",
   "metadata": {},
   "source": [
    "### Placeholder"
   ]
  },
  {
   "cell_type": "code",
   "execution_count": 67,
   "metadata": {},
   "outputs": [
    {
     "name": "stdout",
     "output_type": "stream",
     "text": [
      "WARNING:tensorflow:From /Users/Giuliano/opt/anaconda3/lib/python3.7/site-packages/tensorflow/python/compat/v2_compat.py:96: disable_resource_variables (from tensorflow.python.ops.variable_scope) is deprecated and will be removed in a future version.\n",
      "Instructions for updating:\n",
      "non-resource variables are not supported in the long term\n",
      "[[10.1 10.2 10.3]]\n"
     ]
    }
   ],
   "source": [
    "import tensorflow.compat.v1 as tf\n",
    "tf.disable_v2_behavior()\n",
    "with tf.compat.v1.Session() as sess:\n",
    " a = tf.placeholder(shape=(1,3), dtype=tf.float32)\n",
    " b = tf.constant([[10,10,10]], dtype=tf.float32)\n",
    "\n",
    " c = tf.add(a, b)\n",
    "\n",
    " res = sess.run(c, feed_dict={a:[[0.1,0.2,0.3]]})\n",
    " print(res)"
   ]
  },
  {
   "cell_type": "code",
   "execution_count": 68,
   "metadata": {},
   "outputs": [],
   "source": [
    "tf.reset_default_graph()"
   ]
  },
  {
   "cell_type": "code",
   "execution_count": 69,
   "metadata": {},
   "outputs": [
    {
     "name": "stdout",
     "output_type": "stream",
     "text": [
      "Tensor(\"Placeholder:0\", shape=(?, 3), dtype=float32)\n",
      "[[10.1 10.2 10.3]]\n",
      "[[7. 7. 7.]\n",
      " [7. 7. 7.]]\n"
     ]
    }
   ],
   "source": [
    "import numpy as np\n",
    "\n",
    "# NB: the fist dimension is 'None', meaning that it can be of any lenght\n",
    "a = tf.placeholder(shape=(None,3), dtype=tf.float32)\n",
    "b = tf.placeholder(shape=(None,3), dtype=tf.float32)\n",
    "\n",
    "c = a + b\n",
    "\n",
    "print(a)\n",
    "\n",
    "sess = tf.Session()\n",
    "print(sess.run(c, feed_dict={a:[[0.1,0.2,0.3]], b:[[10,10,10]]}))\n",
    "\n",
    "v_a = np.array([[1,2,3],[4,5,6]])\n",
    "v_b = np.array([[6,5,4],[3,2,1]])\n",
    "print(sess.run(c, feed_dict={a:v_a, b:v_b}))"
   ]
  },
  {
   "cell_type": "code",
   "execution_count": 70,
   "metadata": {},
   "outputs": [
    {
     "name": "stdout",
     "output_type": "stream",
     "text": [
      "[[10.1 10.2 10.3]]\n"
     ]
    }
   ],
   "source": [
    "sess = tf.Session()\n",
    "print(sess.run(c, feed_dict={a:[[0.1,0.2,0.3]], b:[[10,10,10]]}))"
   ]
  },
  {
   "cell_type": "markdown",
   "metadata": {},
   "source": [
    "### Variable"
   ]
  },
  {
   "cell_type": "code",
   "execution_count": 71,
   "metadata": {},
   "outputs": [
    {
     "name": "stdout",
     "output_type": "stream",
     "text": [
      "[[-0.15924239 -0.61242324  1.1427313 ]]\n",
      "[[4 5]]\n"
     ]
    }
   ],
   "source": [
    "tf.reset_default_graph()\n",
    "\n",
    "# variable initialized using the glorot uniform initializer\n",
    "var = tf.get_variable(\"first_variable\", shape=[1,3], dtype=tf.float32, initializer=tf.glorot_uniform_initializer)\n",
    "\n",
    "# variable initialized with constant values\n",
    "init_val = np.array([4,5])\n",
    "var2 = tf.get_variable(\"second_variable\", shape=[1,2], dtype=tf.int32, initializer=tf.constant_initializer(init_val))\n",
    "\n",
    "# create the session\n",
    "sess = tf.Session()\n",
    "# initialize all the variables\n",
    "sess.run(tf.global_variables_initializer())\n",
    "\n",
    "print(sess.run(var))\n",
    "\n",
    "print(sess.run(var2))"
   ]
  },
  {
   "cell_type": "code",
   "execution_count": 72,
   "metadata": {},
   "outputs": [],
   "source": [
    "# not trainable variable\n",
    "var2 = tf.get_variable(\"variable\", shape=[1,2], trainable=False, dtype=tf.int32)"
   ]
  },
  {
   "cell_type": "code",
   "execution_count": 73,
   "metadata": {},
   "outputs": [
    {
     "name": "stdout",
     "output_type": "stream",
     "text": [
      "[<tf.Variable 'first_variable:0' shape=(1, 3) dtype=float32_ref>, <tf.Variable 'second_variable:0' shape=(1, 2) dtype=int32_ref>, <tf.Variable 'variable:0' shape=(1, 2) dtype=int32_ref>]\n"
     ]
    }
   ],
   "source": [
    "print(tf.global_variables())"
   ]
  },
  {
   "cell_type": "markdown",
   "metadata": {},
   "source": [
    "### Graph"
   ]
  },
  {
   "cell_type": "code",
   "execution_count": 74,
   "metadata": {},
   "outputs": [
    {
     "data": {
      "text/plain": [
       "0.50846165"
      ]
     },
     "execution_count": 74,
     "metadata": {},
     "output_type": "execute_result"
    }
   ],
   "source": [
    "tf.reset_default_graph()\n",
    "\n",
    "const1 = tf.constant(3.0, name='constant1')\n",
    "\n",
    "var = tf.get_variable(\"variable1\", shape=[1,2], dtype=tf.float32)\n",
    "var2 = tf.get_variable(\"variable2\", shape=[1,2], trainable=False, dtype=tf.float32)\n",
    "\n",
    "op1 = const1 * var\n",
    "op2 = op1 + var2\n",
    "op3 = tf.reduce_mean(op2)\n",
    "\n",
    "sess = tf.Session()\n",
    "sess.run(tf.global_variables_initializer())\n",
    "sess.run(op3)"
   ]
  },
  {
   "cell_type": "markdown",
   "metadata": {},
   "source": [
    "### Simple Linear Regression Example"
   ]
  },
  {
   "cell_type": "code",
   "execution_count": 75,
   "metadata": {},
   "outputs": [
    {
     "name": "stdout",
     "output_type": "stream",
     "text": [
      "Epoch:   0, MSE: 241.5835, W: 0.630, b: 2.088\n",
      "Epoch:  40, MSE: 6.0298, W: 0.504, b: 1.891\n",
      "Epoch:  80, MSE: 3.7702, W: 0.497, b: 1.832\n",
      "Epoch: 120, MSE: 3.7182, W: 0.495, b: 1.817\n",
      "Epoch: 160, MSE: 3.7181, W: 0.495, b: 1.816\n",
      "Epoch: 200, MSE: 3.7181, W: 0.495, b: 1.816\n",
      "Final weight: 0.495, bias: 1.816\n"
     ]
    }
   ],
   "source": [
    "tf.reset_default_graph()\n",
    "\n",
    "np.random.seed(10)\n",
    "tf.set_random_seed(10)\n",
    "\n",
    "W, b = 0.5, 1.4\n",
    "# create a dataset of 100 examples\n",
    "X = np.linspace(0,100, num=100)\n",
    "# add random noise to the y labels\n",
    "y = np.random.normal(loc=W * X + b, scale=2.0, size=len(X))\n",
    "\n",
    "# create the placeholders\n",
    "x_ph = tf.placeholder(shape=[None,], dtype=tf.float32)\n",
    "y_ph = tf.placeholder(shape=[None,], dtype=tf.float32)\n",
    "\n",
    "# create the variables.\n",
    "v_weight = tf.get_variable(\"weight\", shape=[1], dtype=tf.float32)\n",
    "v_bias = tf.get_variable(\"bias\", shape=[1], dtype=tf.float32)\n",
    "\n",
    "# linear computation\n",
    "out = v_weight * x_ph + v_bias\n",
    "\n",
    "# compute the Mean Squared Error\n",
    "loss = tf.reduce_mean((out - y_ph)**2)\n",
    "\n",
    "# optimizer\n",
    "opt = tf.train.AdamOptimizer(0.4).minimize(loss)\n",
    "\n",
    "# create the session\n",
    "session = tf.Session()\n",
    "session.run(tf.global_variables_initializer())\n",
    "\n",
    "# loop to train the parameters\n",
    "for ep in range(210):\n",
    "    # run the optimizer and get the loss\n",
    "    train_loss, _ = session.run([loss, opt], feed_dict={x_ph:X, y_ph:y})\n",
    " \n",
    "    # print epoch number and loss\n",
    "    if ep % 40 == 0:\n",
    "        print('Epoch: %3d, MSE: %.4f, W: %.3f, b: %.3f' % (ep, train_loss, session.run(v_weight), session.run(v_bias)))\n",
    "        \n",
    "print('Final weight: %.3f, bias: %.3f' % (session.run(v_weight), session.run(v_bias)))"
   ]
  },
  {
   "cell_type": "markdown",
   "metadata": {},
   "source": [
    "### .. with TensorBoard"
   ]
  },
  {
   "cell_type": "code",
   "execution_count": 76,
   "metadata": {},
   "outputs": [
    {
     "name": "stdout",
     "output_type": "stream",
     "text": [
      "Epoch:   0, MSE: 241.5835, W: 0.630, b: 2.088\n",
      "Epoch:  40, MSE: 6.0298, W: 0.504, b: 1.891\n",
      "Epoch:  80, MSE: 3.7702, W: 0.497, b: 1.832\n",
      "Epoch: 120, MSE: 3.7182, W: 0.495, b: 1.817\n",
      "Epoch: 160, MSE: 3.7181, W: 0.495, b: 1.816\n",
      "Epoch: 200, MSE: 3.7181, W: 0.495, b: 1.816\n",
      "Final weight: 0.495, bias: 1.816\n"
     ]
    }
   ],
   "source": [
    "from datetime import datetime\n",
    "\n",
    "tf.reset_default_graph()\n",
    "\n",
    "np.random.seed(10)\n",
    "tf.set_random_seed(10)\n",
    "\n",
    "W, b = 0.5, 1.4\n",
    "# create a dataset of 100 examples\n",
    "X = np.linspace(0,100, num=100)\n",
    "# add random noise to the y labels\n",
    "y = np.random.normal(loc=W * X + b, scale=2.0, size=len(X))\n",
    "\n",
    "# create the placeholders\n",
    "x_ph = tf.placeholder(shape=[None,], dtype=tf.float32)\n",
    "y_ph = tf.placeholder(shape=[None,], dtype=tf.float32)\n",
    "\n",
    "# create the variables.\n",
    "v_weight = tf.get_variable(\"weight\", shape=[1], dtype=tf.float32)\n",
    "v_bias = tf.get_variable(\"bias\", shape=[1], dtype=tf.float32)\n",
    "\n",
    "# linear computation\n",
    "out = v_weight * x_ph + v_bias\n",
    "\n",
    "# compute the Mean Squared Error\n",
    "loss = tf.reduce_mean((out - y_ph)**2)\n",
    "\n",
    "# optimizer\n",
    "opt = tf.train.AdamOptimizer(0.4).minimize(loss)\n",
    "\n",
    "\n",
    "tf.summary.scalar('MSEloss', loss)\n",
    "tf.summary.histogram('model_weight', v_weight)\n",
    "tf.summary.histogram('model_bias', v_bias)\n",
    "all_summary = tf.summary.merge_all()\n",
    "\n",
    "now = datetime.now()\n",
    "clock_time = \"{}_{}.{}.{}\".format(now.day, now.hour, now.minute, now.second)\n",
    "file_writer = tf.summary.FileWriter('log_dir/'+clock_time, tf.get_default_graph())\n",
    "\n",
    "\n",
    "# create the session\n",
    "session = tf.Session()\n",
    "session.run(tf.global_variables_initializer())\n",
    "\n",
    "# loop to train the parameters\n",
    "for ep in range(210):\n",
    "    # run the optimizer and get the loss\n",
    "    train_loss, _, train_summary = session.run([loss, opt, all_summary], feed_dict={x_ph:X, y_ph:y})\n",
    "    file_writer.add_summary(train_summary, ep)\n",
    " \n",
    "    # print epoch number and loss\n",
    "    if ep % 40 == 0:\n",
    "        print('Epoch: %3d, MSE: %.4f, W: %.3f, b: %.3f' % (ep, train_loss, session.run(v_weight), session.run(v_bias)))\n",
    "        \n",
    "print('Final weight: %.3f, bias: %.3f' % (session.run(v_weight), session.run(v_bias)))\n",
    "file_writer.close()"
   ]
  },
  {
   "cell_type": "code",
   "execution_count": null,
   "metadata": {},
   "outputs": [],
   "source": []
  },
  {
   "cell_type": "code",
   "execution_count": null,
   "metadata": {},
   "outputs": [],
   "source": []
  }
 ],
 "metadata": {
  "kernelspec": {
   "display_name": "Python 3",
   "language": "python",
   "name": "python3"
  },
  "language_info": {
   "codemirror_mode": {
    "name": "ipython",
    "version": 3
   },
   "file_extension": ".py",
   "mimetype": "text/x-python",
   "name": "python",
   "nbconvert_exporter": "python",
   "pygments_lexer": "ipython3",
   "version": "3.7.6"
  }
 },
 "nbformat": 4,
 "nbformat_minor": 4
}
